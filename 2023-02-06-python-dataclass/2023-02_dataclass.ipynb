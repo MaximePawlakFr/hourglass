{
 "cells": [
  {
   "cell_type": "markdown",
   "metadata": {
    "slideshow": {
     "slide_type": "slide"
    }
   },
   "source": [
    "# 🚀 Level up your Python skills with dataclass 🍫\n",
    "\n",
    "2023-02"
   ]
  },
  {
   "cell_type": "markdown",
   "metadata": {
    "slideshow": {
     "slide_type": "slide"
    },
    "tags": []
   },
   "source": [
    "# Bonjour à tous 👋"
   ]
  },
  {
   "cell_type": "code",
   "execution_count": 69,
   "metadata": {
    "slideshow": {
     "slide_type": "slide"
    }
   },
   "outputs": [],
   "source": [
    "#J'en ai marre\n",
    "\n",
    "class Item:\n",
    "    def __init__(self, name: str, price: float, quantity: int = 0):\n",
    "        self.name = name\n",
    "        self.price = price\n",
    "        self.quantity = quantity\n",
    "\n",
    "    def __repr__(self):\n",
    "        return (\n",
    "            self.__class__.__qualname__\n",
    "            + f\"(name={self.name!r}, price={self.price!r}, quantity={self.quantity!r})\"\n",
    "        )\n",
    "\n",
    "    def __eq__(self, other):\n",
    "        return (\n",
    "            self.name,\n",
    "            self.price,\n",
    "        ) == (\n",
    "            other.name,\n",
    "            other.price,\n",
    "        )\n"
   ]
  },
  {
   "cell_type": "markdown",
   "metadata": {
    "slideshow": {
     "slide_type": "slide"
    }
   },
   "source": [
    "# 📅 Sommaire\n",
    "\n",
    "1. Good old fashion way to make class\n",
    "1. Dataclass - Level 1\n",
    "1. Dataclass - Level 2\n",
    "1. Dataclass - Level 3\n",
    "1. Conclusion\n"
   ]
  },
  {
   "cell_type": "markdown",
   "metadata": {
    "slideshow": {
     "slide_type": "slide"
    }
   },
   "source": [
    "# 👵 Good old fashion way"
   ]
  },
  {
   "cell_type": "code",
   "execution_count": 70,
   "metadata": {
    "slideshow": {
     "slide_type": "fragment"
    }
   },
   "outputs": [],
   "source": [
    "# Par défaut\n",
    "class Item:    \n",
    "    def __init__(self, name, price, quantity):\n",
    "        self.name = name \n",
    "        self.price = price\n",
    "        self.quantity = quantity"
   ]
  },
  {
   "cell_type": "code",
   "execution_count": 71,
   "metadata": {
    "slideshow": {
     "slide_type": "fragment"
    }
   },
   "outputs": [],
   "source": [
    "# Avec des type hints et des valeurs par défaut\n",
    "class Item:\n",
    "    def __init__(self, name:str, price:float, quantity:int=0):\n",
    "        self.name = name\n",
    "        self.price = price\n",
    "        self.quantity = quantity"
   ]
  },
  {
   "cell_type": "code",
   "execution_count": 72,
   "metadata": {
    "slideshow": {
     "slide_type": "fragment"
    }
   },
   "outputs": [
    {
     "data": {
      "text/plain": [
       "<__main__.Item at 0x7f8399ac03d0>"
      ]
     },
     "execution_count": 72,
     "metadata": {},
     "output_type": "execute_result"
    }
   ],
   "source": [
    "i = Item(\"compu\", 10)\n",
    "i\n",
    "# Repr pas belle"
   ]
  },
  {
   "cell_type": "code",
   "execution_count": 73,
   "metadata": {
    "slideshow": {
     "slide_type": "slide"
    }
   },
   "outputs": [],
   "source": [
    " i = Item(\"compu\", 10)\n",
    "i2 = Item(\"compu2\", 20)\n",
    "i3 = Item(\"compu\", 10)\n"
   ]
  },
  {
   "cell_type": "code",
   "execution_count": 74,
   "metadata": {
    "slideshow": {
     "slide_type": "fragment"
    }
   },
   "outputs": [
    {
     "ename": "TypeError",
     "evalue": "'>' not supported between instances of 'Item' and 'Item'",
     "output_type": "error",
     "traceback": [
      "\u001b[0;31m---------------------------------------------------------------------------\u001b[0m",
      "\u001b[0;31mTypeError\u001b[0m                                 Traceback (most recent call last)",
      "Input \u001b[0;32mIn [74]\u001b[0m, in \u001b[0;36m<cell line: 1>\u001b[0;34m()\u001b[0m\n\u001b[0;32m----> 1\u001b[0m \u001b[43mi\u001b[49m\u001b[43m \u001b[49m\u001b[38;5;241;43m>\u001b[39;49m\u001b[43m \u001b[49m\u001b[43mi2\u001b[49m\n",
      "\u001b[0;31mTypeError\u001b[0m: '>' not supported between instances of 'Item' and 'Item'"
     ]
    }
   ],
   "source": [
    "i > i2\n",
    "# Pas de comparaison"
   ]
  },
  {
   "cell_type": "code",
   "execution_count": 75,
   "metadata": {
    "slideshow": {
     "slide_type": "fragment"
    }
   },
   "outputs": [
    {
     "data": {
      "text/plain": [
       "False"
      ]
     },
     "execution_count": 75,
     "metadata": {},
     "output_type": "execute_result"
    }
   ],
   "source": [
    "i == i3\n",
    "# Pas d'égalité"
   ]
  },
  {
   "cell_type": "markdown",
   "metadata": {
    "slideshow": {
     "slide_type": "slide"
    }
   },
   "source": [
    "# 😺 Level 1"
   ]
  },
  {
   "cell_type": "markdown",
   "metadata": {
    "slideshow": {
     "slide_type": "fragment"
    }
   },
   "source": [
    "# Dataclasses\n",
    "\n",
    "* It was originally described in PEP 557.\n",
    "\n",
    "* Python 3.7 (Jun. 2018)"
   ]
  },
  {
   "cell_type": "code",
   "execution_count": 77,
   "metadata": {
    "slideshow": {
     "slide_type": "slide"
    },
    "tags": []
   },
   "outputs": [],
   "source": [
    "from dataclasses import dataclass\n",
    "\n",
    "@dataclass\n",
    "class Item:\n",
    "    name: str\n",
    "    price:float\n",
    "    quantity: int = 0"
   ]
  },
  {
   "cell_type": "code",
   "execution_count": 78,
   "metadata": {
    "slideshow": {
     "slide_type": "fragment"
    }
   },
   "outputs": [
    {
     "data": {
      "text/plain": [
       "Item(name='compu', price=10, quantity=0)"
      ]
     },
     "execution_count": 78,
     "metadata": {},
     "output_type": "execute_result"
    }
   ],
   "source": [
    "i = Item(\"compu\", 10)\n",
    "i\n"
   ]
  },
  {
   "cell_type": "code",
   "execution_count": 80,
   "metadata": {
    "slideshow": {
     "slide_type": "slide"
    }
   },
   "outputs": [],
   "source": [
    "i = Item(\"compu\", 10)\n",
    "i2 = Item(\"compu2\", 20)\n",
    "i3 = Item(\"compu\", 10)\n"
   ]
  },
  {
   "cell_type": "code",
   "execution_count": 81,
   "metadata": {
    "slideshow": {
     "slide_type": "fragment"
    }
   },
   "outputs": [
    {
     "data": {
      "text/plain": [
       "False"
      ]
     },
     "execution_count": 81,
     "metadata": {},
     "output_type": "execute_result"
    }
   ],
   "source": [
    "i == i2"
   ]
  },
  {
   "cell_type": "code",
   "execution_count": 82,
   "metadata": {
    "slideshow": {
     "slide_type": "fragment"
    },
    "tags": []
   },
   "outputs": [
    {
     "data": {
      "text/plain": [
       "True"
      ]
     },
     "execution_count": 82,
     "metadata": {},
     "output_type": "execute_result"
    }
   ],
   "source": [
    "i == i3"
   ]
  },
  {
   "cell_type": "code",
   "execution_count": 16,
   "metadata": {
    "slideshow": {
     "slide_type": "slide"
    }
   },
   "outputs": [],
   "source": [
    "# Under the hood\n",
    "class Item:\n",
    "    def __init__(self, name: str, price: float, quantity: int = 0):\n",
    "        self.name = name\n",
    "        self.price = price\n",
    "        self.quantity = quantity\n",
    "\n",
    "    def __repr__(self):\n",
    "        return (\n",
    "            self.__class__.__qualname__\n",
    "            + f\"(name={self.name!r}, price={self.price!r}, quantity={self.quantity!r})\"\n",
    "        )\n",
    "\n",
    "    def __eq__(self, other):\n",
    "        if other.__class__ is self.__class__:  # Check for class equality\n",
    "            return (\n",
    "                self.name,\n",
    "                self.price,\n",
    "                self.quantity,\n",
    "            ) == (\n",
    "                other.name,\n",
    "                other.price,\n",
    "                self.quantity,\n",
    "            )\n",
    "        return NotImplemented\n"
   ]
  },
  {
   "cell_type": "markdown",
   "metadata": {
    "slideshow": {
     "slide_type": "slide"
    }
   },
   "source": [
    "# 🐈 Level 2"
   ]
  },
  {
   "cell_type": "markdown",
   "metadata": {
    "slideshow": {
     "slide_type": "slide"
    }
   },
   "source": [
    "## Order"
   ]
  },
  {
   "cell_type": "code",
   "execution_count": 85,
   "metadata": {
    "slideshow": {
     "slide_type": "fragment"
    }
   },
   "outputs": [],
   "source": [
    "# Order\n",
    "from dataclasses import dataclass\n",
    "\n",
    "@dataclass(order=True)\n",
    "class Item:\n",
    "    name: str\n",
    "    price:float\n",
    "    quantity: int = 0"
   ]
  },
  {
   "cell_type": "code",
   "execution_count": 86,
   "metadata": {
    "slideshow": {
     "slide_type": "slide"
    }
   },
   "outputs": [],
   "source": [
    "i = Item(\"compu\", 10)\n",
    "i2 = Item(\"compu2\", 20)\n",
    "i3 = Item(\"compu\", 10)\n",
    "i4 = Item(\"zaperlipopette\", 5)\n",
    "i5 = Item(\"abracadbra\", 10)\n",
    "i6 = Item(\"abracadbra\", 20)\n"
   ]
  },
  {
   "cell_type": "code",
   "execution_count": 87,
   "metadata": {
    "slideshow": {
     "slide_type": "fragment"
    }
   },
   "outputs": [
    {
     "data": {
      "text/plain": [
       "False"
      ]
     },
     "execution_count": 87,
     "metadata": {},
     "output_type": "execute_result"
    }
   ],
   "source": [
    "i > i2"
   ]
  },
  {
   "cell_type": "code",
   "execution_count": 88,
   "metadata": {
    "slideshow": {
     "slide_type": "fragment"
    }
   },
   "outputs": [
    {
     "data": {
      "text/plain": [
       "True"
      ]
     },
     "execution_count": 88,
     "metadata": {},
     "output_type": "execute_result"
    }
   ],
   "source": [
    "i > i5"
   ]
  },
  {
   "cell_type": "code",
   "execution_count": 89,
   "metadata": {
    "slideshow": {
     "slide_type": "slide"
    }
   },
   "outputs": [
    {
     "data": {
      "text/plain": [
       "[Item(name='abracadbra', price=10, quantity=0),\n",
       " Item(name='abracadbra', price=20, quantity=0),\n",
       " Item(name='compu', price=10, quantity=0),\n",
       " Item(name='compu', price=10, quantity=0),\n",
       " Item(name='compu2', price=20, quantity=0),\n",
       " Item(name='zaperlipopette', price=5, quantity=0)]"
      ]
     },
     "execution_count": 89,
     "metadata": {},
     "output_type": "execute_result"
    }
   ],
   "source": [
    "items = [i, i2, i3, i4, i5, i6]\n",
    "sorted(items)\n",
    "# Sort by attribute order"
   ]
  },
  {
   "cell_type": "code",
   "execution_count": 23,
   "metadata": {
    "slideshow": {
     "slide_type": "slide"
    }
   },
   "outputs": [
    {
     "ename": "SyntaxError",
     "evalue": "invalid syntax (2227200127.py, line 22)",
     "output_type": "error",
     "traceback": [
      "\u001b[0;36m  Input \u001b[0;32mIn [23]\u001b[0;36m\u001b[0m\n\u001b[0;31m    `other.name,\u001b[0m\n\u001b[0m    ^\u001b[0m\n\u001b[0;31mSyntaxError\u001b[0m\u001b[0;31m:\u001b[0m invalid syntax\n"
     ]
    }
   ],
   "source": [
    "def __lt__(self, other):\n",
    "    if other.__class__ is self.__class__:\n",
    "        return (\n",
    "            self.name,\n",
    "            self.price,\n",
    "            self.quantity,\n",
    "        ) < (\n",
    "            other.name,\n",
    "            other.price,\n",
    "            self.quantity,\n",
    "        )\n",
    "    return NotImplemented\n",
    "\n",
    "def __le__(self, other):\n",
    "    if other.__class__ is self.__class__:\n",
    "        return (\n",
    "            self.name,\n",
    "            self.price,\n",
    "            self.quantity,\n",
    "        ) <= (\n",
    "  \n",
    "            `other.name,\n",
    "            other.price,\n",
    "            self.quantity,\n",
    "        )\n",
    "    return NotImplemented\n",
    "\n",
    "\n"
   ]
  },
  {
   "cell_type": "code",
   "execution_count": null,
   "metadata": {
    "slideshow": {
     "slide_type": "subslide"
    }
   },
   "outputs": [],
   "source": [
    "\n",
    "def __gt__(self, other):\n",
    "    if other.__class__ is self.__class__:\n",
    "        return (\n",
    "            self.name,\n",
    "            self.price,\n",
    "            self.quantity,\n",
    "        ) > (\n",
    "            other.name,\n",
    "            other.price,\n",
    "            self.quantity,\n",
    "        )\n",
    "    return NotImplemented\n",
    "\n",
    "def __ge__(self, other):\n",
    "    if other.__class__ is self.__class__:\n",
    "        return (\n",
    "            self.name,\n",
    "            self.price,\n",
    "            self.quantity,\n",
    "        ) >= (\n",
    "            other.name,\n",
    "            other.price,\n",
    "            self.quantity,\n",
    "        )\n",
    "    return NotImplemented"
   ]
  },
  {
   "cell_type": "code",
   "execution_count": 92,
   "metadata": {
    "slideshow": {
     "slide_type": "slide"
    }
   },
   "outputs": [],
   "source": [
    "# Post-init\n",
    "from dataclasses import dataclass\n",
    "\n",
    "@dataclass(order=True)\n",
    "class Item:\n",
    "    sort_index:int\n",
    "    name: str\n",
    "    price:float\n",
    "    quantity: int = 0\n",
    "\n",
    "    def __post_init__(self):\n",
    "        self.sort_index = self.price"
   ]
  },
  {
   "cell_type": "code",
   "execution_count": 94,
   "metadata": {
    "slideshow": {
     "slide_type": "slide"
    }
   },
   "outputs": [],
   "source": [
    "i = Item(0, \"compu\", 10)\n",
    "i2 = Item(0, \"compu2\", 20)\n",
    "i3 = Item(0, \"compu\", 10)\n",
    "i4 = Item(0, \"zaperlipopette\", 5)\n",
    "i5 = Item(0, \"abracadbra\", 10)\n",
    "i6 = Item(0, \"abracadbra\", 20)"
   ]
  },
  {
   "cell_type": "code",
   "execution_count": 95,
   "metadata": {
    "slideshow": {
     "slide_type": "fragment"
    }
   },
   "outputs": [
    {
     "data": {
      "text/plain": [
       "Item(sort_index=10, name='compu', price=10, quantity=0)"
      ]
     },
     "execution_count": 95,
     "metadata": {},
     "output_type": "execute_result"
    }
   ],
   "source": [
    "i"
   ]
  },
  {
   "cell_type": "code",
   "execution_count": 96,
   "metadata": {
    "slideshow": {
     "slide_type": "fragment"
    }
   },
   "outputs": [
    {
     "data": {
      "text/plain": [
       "[Item(sort_index=5, name='zaperlipopette', price=5, quantity=0),\n",
       " Item(sort_index=10, name='abracadbra', price=10, quantity=0),\n",
       " Item(sort_index=10, name='compu', price=10, quantity=0),\n",
       " Item(sort_index=10, name='compu', price=10, quantity=0),\n",
       " Item(sort_index=20, name='abracadbra', price=20, quantity=0),\n",
       " Item(sort_index=20, name='compu2', price=20, quantity=0)]"
      ]
     },
     "execution_count": 96,
     "metadata": {},
     "output_type": "execute_result"
    }
   ],
   "source": [
    "items = [i, i2, i3, i4, i5, i6]\n",
    "sorted(items)"
   ]
  },
  {
   "cell_type": "markdown",
   "metadata": {
    "slideshow": {
     "slide_type": "slide"
    }
   },
   "source": [
    "### field"
   ]
  },
  {
   "cell_type": "code",
   "execution_count": 97,
   "metadata": {
    "slideshow": {
     "slide_type": "fragment"
    }
   },
   "outputs": [],
   "source": [
    "# Pas pratique, on va exclure sort_index de l'init\n",
    "from dataclasses import dataclass, field\n",
    "\n",
    "@dataclass(order=True)\n",
    "class Item:\n",
    "    sort_index:int = field(init=False)\n",
    "    name: str\n",
    "    price:float\n",
    "    quantity: int = 0\n",
    "\n",
    "    def __post_init__(self):\n",
    "        self.sort_index = self.price"
   ]
  },
  {
   "cell_type": "code",
   "execution_count": 100,
   "metadata": {
    "slideshow": {
     "slide_type": "slide"
    }
   },
   "outputs": [],
   "source": [
    "i = Item(\"compu\", 10)\n",
    "i2 = Item(\"compu2\", 20)\n",
    "i3 = Item(\"compu\", 10)\n",
    "i4 = Item(\"zaperlipopette\", 5)\n",
    "i5 = Item(\"abracadbra\", 10)\n",
    "i6 = Item(\"abracadbra\", 20)"
   ]
  },
  {
   "cell_type": "code",
   "execution_count": 31,
   "metadata": {
    "slideshow": {
     "slide_type": "fragment"
    }
   },
   "outputs": [
    {
     "data": {
      "text/plain": [
       "Item(sort_index=10, name='compu', price=10, quantity=0)"
      ]
     },
     "execution_count": 31,
     "metadata": {},
     "output_type": "execute_result"
    }
   ],
   "source": [
    "i"
   ]
  },
  {
   "cell_type": "code",
   "execution_count": 101,
   "metadata": {
    "slideshow": {
     "slide_type": "fragment"
    }
   },
   "outputs": [
    {
     "data": {
      "text/plain": [
       "[Item(sort_index=5, name='zaperlipopette', price=5, quantity=0),\n",
       " Item(sort_index=10, name='abracadbra', price=10, quantity=0),\n",
       " Item(sort_index=10, name='compu', price=10, quantity=0),\n",
       " Item(sort_index=10, name='compu', price=10, quantity=0),\n",
       " Item(sort_index=20, name='abracadbra', price=20, quantity=0),\n",
       " Item(sort_index=20, name='compu2', price=20, quantity=0)]"
      ]
     },
     "execution_count": 101,
     "metadata": {},
     "output_type": "execute_result"
    }
   ],
   "source": [
    "items = [i, i2, i3, i4, i5, i6]\n",
    "sorted(items)"
   ]
  },
  {
   "cell_type": "code",
   "execution_count": 102,
   "metadata": {
    "slideshow": {
     "slide_type": "slide"
    }
   },
   "outputs": [],
   "source": [
    "# On peut aussi exclure cet index de repr\n",
    "from dataclasses import dataclass, field\n",
    "\n",
    "@dataclass(order=True)\n",
    "class Item:\n",
    "    sort_index:int = field(init=False, repr=False)\n",
    "    name: str\n",
    "    price:float\n",
    "    quantity: int = 0\n",
    "\n",
    "    def __post_init__(self):\n",
    "        self.sort_index = self.price"
   ]
  },
  {
   "cell_type": "code",
   "execution_count": 103,
   "metadata": {
    "slideshow": {
     "slide_type": "slide"
    }
   },
   "outputs": [],
   "source": [
    "i = Item(\"compu\", 10)\n",
    "i2 = Item(\"compu2\", 20)\n",
    "i3 = Item(\"compu\", 10)\n",
    "i4 = Item(\"zaperlipopette\", 5)\n",
    "i5 = Item(\"abracadbra\", 10)\n",
    "i6 = Item(\"abracadbra\", 20)"
   ]
  },
  {
   "cell_type": "code",
   "execution_count": 104,
   "metadata": {
    "slideshow": {
     "slide_type": "fragment"
    }
   },
   "outputs": [
    {
     "data": {
      "text/plain": [
       "Item(name='compu', price=10, quantity=0)"
      ]
     },
     "execution_count": 104,
     "metadata": {},
     "output_type": "execute_result"
    }
   ],
   "source": [
    "i"
   ]
  },
  {
   "cell_type": "code",
   "execution_count": 105,
   "metadata": {
    "slideshow": {
     "slide_type": "fragment"
    }
   },
   "outputs": [
    {
     "data": {
      "text/plain": [
       "[Item(name='zaperlipopette', price=5, quantity=0),\n",
       " Item(name='abracadbra', price=10, quantity=0),\n",
       " Item(name='compu', price=10, quantity=0),\n",
       " Item(name='compu', price=10, quantity=0),\n",
       " Item(name='abracadbra', price=20, quantity=0),\n",
       " Item(name='compu2', price=20, quantity=0)]"
      ]
     },
     "execution_count": 105,
     "metadata": {},
     "output_type": "execute_result"
    }
   ],
   "source": [
    "items = [i, i2, i3, i4, i5, i6]\n",
    "sorted(items)"
   ]
  },
  {
   "cell_type": "markdown",
   "metadata": {
    "slideshow": {
     "slide_type": "slide"
    }
   },
   "source": [
    "\n",
    "## Frozen"
   ]
  },
  {
   "cell_type": "code",
   "execution_count": 106,
   "metadata": {
    "slideshow": {
     "slide_type": "fragment"
    }
   },
   "outputs": [],
   "source": [
    "from dataclasses import dataclass, field\n",
    "\n",
    "@dataclass(order=True, frozen=True)\n",
    "class Item:\n",
    "    name: str\n",
    "    price:float\n",
    "    quantity: int = 0\n"
   ]
  },
  {
   "cell_type": "code",
   "execution_count": 107,
   "metadata": {
    "slideshow": {
     "slide_type": "slide"
    }
   },
   "outputs": [
    {
     "data": {
      "text/plain": [
       "Item(name='compu', price=10, quantity=0)"
      ]
     },
     "execution_count": 107,
     "metadata": {},
     "output_type": "execute_result"
    }
   ],
   "source": [
    "i = Item(\"compu\", 10)\n",
    "i"
   ]
  },
  {
   "cell_type": "code",
   "execution_count": 108,
   "metadata": {
    "slideshow": {
     "slide_type": "fragment"
    }
   },
   "outputs": [
    {
     "ename": "FrozenInstanceError",
     "evalue": "cannot assign to field 'name'",
     "output_type": "error",
     "traceback": [
      "\u001b[0;31m---------------------------------------------------------------------------\u001b[0m",
      "\u001b[0;31mFrozenInstanceError\u001b[0m                       Traceback (most recent call last)",
      "Input \u001b[0;32mIn [108]\u001b[0m, in \u001b[0;36m<cell line: 1>\u001b[0;34m()\u001b[0m\n\u001b[0;32m----> 1\u001b[0m i\u001b[38;5;241m.\u001b[39mname \u001b[38;5;241m=\u001b[39m \u001b[38;5;124m\"\u001b[39m\u001b[38;5;124mnew name\u001b[39m\u001b[38;5;124m\"\u001b[39m\n",
      "File \u001b[0;32m<string>:4\u001b[0m, in \u001b[0;36m__setattr__\u001b[0;34m(self, name, value)\u001b[0m\n",
      "\u001b[0;31mFrozenInstanceError\u001b[0m: cannot assign to field 'name'"
     ]
    }
   ],
   "source": [
    "i.name = \"new name\""
   ]
  },
  {
   "cell_type": "code",
   "execution_count": 109,
   "metadata": {
    "slideshow": {
     "slide_type": "fragment"
    }
   },
   "outputs": [
    {
     "ename": "FrozenInstanceError",
     "evalue": "cannot delete field 'name'",
     "output_type": "error",
     "traceback": [
      "\u001b[0;31m---------------------------------------------------------------------------\u001b[0m",
      "\u001b[0;31mFrozenInstanceError\u001b[0m                       Traceback (most recent call last)",
      "Input \u001b[0;32mIn [109]\u001b[0m, in \u001b[0;36m<cell line: 1>\u001b[0;34m()\u001b[0m\n\u001b[0;32m----> 1\u001b[0m \u001b[38;5;28;01mdel\u001b[39;00m(i\u001b[38;5;241m.\u001b[39mname)\n",
      "File \u001b[0;32m<string>:4\u001b[0m, in \u001b[0;36m__delattr__\u001b[0;34m(self, name)\u001b[0m\n",
      "\u001b[0;31mFrozenInstanceError\u001b[0m: cannot delete field 'name'"
     ]
    }
   ],
   "source": [
    "del(i.name)"
   ]
  },
  {
   "cell_type": "markdown",
   "metadata": {
    "slideshow": {
     "slide_type": "slide"
    }
   },
   "source": [
    "\n",
    "### set_attr"
   ]
  },
  {
   "cell_type": "code",
   "execution_count": 110,
   "metadata": {
    "slideshow": {
     "slide_type": "fragment"
    }
   },
   "outputs": [
    {
     "data": {
      "text/plain": [
       "Item(name='new_name', price=10, quantity=0)"
      ]
     },
     "execution_count": 110,
     "metadata": {},
     "output_type": "execute_result"
    }
   ],
   "source": [
    "# On peut toujours, mais ca devient plus compliqué\n",
    "object.__setattr__(i, \"name\", \"new_name\")\n",
    "i"
   ]
  },
  {
   "cell_type": "markdown",
   "metadata": {
    "slideshow": {
     "slide_type": "slide"
    }
   },
   "source": [
    "## field"
   ]
  },
  {
   "cell_type": "code",
   "execution_count": 112,
   "metadata": {
    "slideshow": {
     "slide_type": "fragment"
    }
   },
   "outputs": [],
   "source": [
    "# compare\n",
    "@dataclass(order=True)\n",
    "class Item:\n",
    "    name: str\n",
    "    price:float = field(compare=False)\n",
    "    quantity: int = field(default=0, repr=False)"
   ]
  },
  {
   "cell_type": "code",
   "execution_count": 113,
   "metadata": {
    "slideshow": {
     "slide_type": "slide"
    }
   },
   "outputs": [
    {
     "data": {
      "text/plain": [
       "[Item(name='abracadbra', price=10),\n",
       " Item(name='abracadbra', price=20),\n",
       " Item(name='compu', price=300),\n",
       " Item(name='compu', price=10),\n",
       " Item(name='compu2', price=20),\n",
       " Item(name='zaperlipopette', price=5)]"
      ]
     },
     "execution_count": 113,
     "metadata": {},
     "output_type": "execute_result"
    }
   ],
   "source": [
    "i = Item(\"compu\", 300)\n",
    "i2 = Item(\"compu2\", 20)\n",
    "i3 = Item(\"compu\", 10)\n",
    "i4 = Item(\"zaperlipopette\", 5)\n",
    "i5 = Item(\"abracadbra\", 10)\n",
    "i6 = Item(\"abracadbra\", 20)\n",
    "\n",
    "items = [i, i2, i3, i4, i5, i6]\n",
    "sorted(items)"
   ]
  },
  {
   "cell_type": "markdown",
   "metadata": {
    "slideshow": {
     "slide_type": "slide"
    }
   },
   "source": [
    "### default_factory"
   ]
  },
  {
   "cell_type": "code",
   "execution_count": 116,
   "metadata": {
    "slideshow": {
     "slide_type": "fragment"
    }
   },
   "outputs": [
    {
     "ename": "ValueError",
     "evalue": "mutable default <class 'list'> for field ingredients is not allowed: use default_factory",
     "output_type": "error",
     "traceback": [
      "\u001b[0;31m---------------------------------------------------------------------------\u001b[0m",
      "\u001b[0;31mValueError\u001b[0m                                Traceback (most recent call last)",
      "Input \u001b[0;32mIn [116]\u001b[0m, in \u001b[0;36m<cell line: 2>\u001b[0;34m()\u001b[0m\n\u001b[1;32m      1\u001b[0m \u001b[38;5;66;03m# default_factory\u001b[39;00m\n\u001b[1;32m      2\u001b[0m \u001b[38;5;129;43m@dataclass\u001b[39;49m\u001b[43m(\u001b[49m\u001b[43morder\u001b[49m\u001b[38;5;241;43m=\u001b[39;49m\u001b[38;5;28;43;01mTrue\u001b[39;49;00m\u001b[43m)\u001b[49m\n\u001b[0;32m----> 3\u001b[0m \u001b[38;5;28;43;01mclass\u001b[39;49;00m\u001b[43m \u001b[49m\u001b[38;5;21;43;01mItem\u001b[39;49;00m\u001b[43m:\u001b[49m\n\u001b[1;32m      4\u001b[0m \u001b[43m    \u001b[49m\u001b[43mname\u001b[49m\u001b[43m:\u001b[49m\u001b[43m \u001b[49m\u001b[38;5;28;43mstr\u001b[39;49m\n\u001b[1;32m      5\u001b[0m \u001b[43m    \u001b[49m\u001b[43mprice\u001b[49m\u001b[43m:\u001b[49m\u001b[38;5;28;43mfloat\u001b[39;49m\u001b[43m \u001b[49m\u001b[38;5;241;43m=\u001b[39;49m\u001b[43m \u001b[49m\u001b[43mfield\u001b[49m\u001b[43m(\u001b[49m\u001b[43mcompare\u001b[49m\u001b[38;5;241;43m=\u001b[39;49m\u001b[38;5;28;43;01mFalse\u001b[39;49;00m\u001b[43m)\u001b[49m\n",
      "File \u001b[0;32m~/opt/anaconda3/lib/python3.9/dataclasses.py:1013\u001b[0m, in \u001b[0;36mdataclass.<locals>.wrap\u001b[0;34m(cls)\u001b[0m\n\u001b[1;32m   1012\u001b[0m \u001b[38;5;28;01mdef\u001b[39;00m \u001b[38;5;21mwrap\u001b[39m(\u001b[38;5;28mcls\u001b[39m):\n\u001b[0;32m-> 1013\u001b[0m     \u001b[38;5;28;01mreturn\u001b[39;00m \u001b[43m_process_class\u001b[49m\u001b[43m(\u001b[49m\u001b[38;5;28;43mcls\u001b[39;49m\u001b[43m,\u001b[49m\u001b[43m \u001b[49m\u001b[43minit\u001b[49m\u001b[43m,\u001b[49m\u001b[43m \u001b[49m\u001b[38;5;28;43mrepr\u001b[39;49m\u001b[43m,\u001b[49m\u001b[43m \u001b[49m\u001b[43meq\u001b[49m\u001b[43m,\u001b[49m\u001b[43m \u001b[49m\u001b[43morder\u001b[49m\u001b[43m,\u001b[49m\u001b[43m \u001b[49m\u001b[43munsafe_hash\u001b[49m\u001b[43m,\u001b[49m\u001b[43m \u001b[49m\u001b[43mfrozen\u001b[49m\u001b[43m)\u001b[49m\n",
      "File \u001b[0;32m~/opt/anaconda3/lib/python3.9/dataclasses.py:863\u001b[0m, in \u001b[0;36m_process_class\u001b[0;34m(cls, init, repr, eq, order, unsafe_hash, frozen)\u001b[0m\n\u001b[1;32m    858\u001b[0m cls_annotations \u001b[38;5;241m=\u001b[39m \u001b[38;5;28mcls\u001b[39m\u001b[38;5;241m.\u001b[39m\u001b[38;5;18m__dict__\u001b[39m\u001b[38;5;241m.\u001b[39mget(\u001b[38;5;124m'\u001b[39m\u001b[38;5;124m__annotations__\u001b[39m\u001b[38;5;124m'\u001b[39m, {})\n\u001b[1;32m    860\u001b[0m \u001b[38;5;66;03m# Now find fields in our class.  While doing so, validate some\u001b[39;00m\n\u001b[1;32m    861\u001b[0m \u001b[38;5;66;03m# things, and set the default values (as class attributes) where\u001b[39;00m\n\u001b[1;32m    862\u001b[0m \u001b[38;5;66;03m# we can.\u001b[39;00m\n\u001b[0;32m--> 863\u001b[0m cls_fields \u001b[38;5;241m=\u001b[39m [_get_field(\u001b[38;5;28mcls\u001b[39m, name, \u001b[38;5;28mtype\u001b[39m)\n\u001b[1;32m    864\u001b[0m               \u001b[38;5;28;01mfor\u001b[39;00m name, \u001b[38;5;28mtype\u001b[39m \u001b[38;5;129;01min\u001b[39;00m cls_annotations\u001b[38;5;241m.\u001b[39mitems()]\n\u001b[1;32m    865\u001b[0m \u001b[38;5;28;01mfor\u001b[39;00m f \u001b[38;5;129;01min\u001b[39;00m cls_fields:\n\u001b[1;32m    866\u001b[0m     fields[f\u001b[38;5;241m.\u001b[39mname] \u001b[38;5;241m=\u001b[39m f\n",
      "File \u001b[0;32m~/opt/anaconda3/lib/python3.9/dataclasses.py:863\u001b[0m, in \u001b[0;36m<listcomp>\u001b[0;34m(.0)\u001b[0m\n\u001b[1;32m    858\u001b[0m cls_annotations \u001b[38;5;241m=\u001b[39m \u001b[38;5;28mcls\u001b[39m\u001b[38;5;241m.\u001b[39m\u001b[38;5;18m__dict__\u001b[39m\u001b[38;5;241m.\u001b[39mget(\u001b[38;5;124m'\u001b[39m\u001b[38;5;124m__annotations__\u001b[39m\u001b[38;5;124m'\u001b[39m, {})\n\u001b[1;32m    860\u001b[0m \u001b[38;5;66;03m# Now find fields in our class.  While doing so, validate some\u001b[39;00m\n\u001b[1;32m    861\u001b[0m \u001b[38;5;66;03m# things, and set the default values (as class attributes) where\u001b[39;00m\n\u001b[1;32m    862\u001b[0m \u001b[38;5;66;03m# we can.\u001b[39;00m\n\u001b[0;32m--> 863\u001b[0m cls_fields \u001b[38;5;241m=\u001b[39m [\u001b[43m_get_field\u001b[49m\u001b[43m(\u001b[49m\u001b[38;5;28;43mcls\u001b[39;49m\u001b[43m,\u001b[49m\u001b[43m \u001b[49m\u001b[43mname\u001b[49m\u001b[43m,\u001b[49m\u001b[43m \u001b[49m\u001b[38;5;28;43mtype\u001b[39;49m\u001b[43m)\u001b[49m\n\u001b[1;32m    864\u001b[0m               \u001b[38;5;28;01mfor\u001b[39;00m name, \u001b[38;5;28mtype\u001b[39m \u001b[38;5;129;01min\u001b[39;00m cls_annotations\u001b[38;5;241m.\u001b[39mitems()]\n\u001b[1;32m    865\u001b[0m \u001b[38;5;28;01mfor\u001b[39;00m f \u001b[38;5;129;01min\u001b[39;00m cls_fields:\n\u001b[1;32m    866\u001b[0m     fields[f\u001b[38;5;241m.\u001b[39mname] \u001b[38;5;241m=\u001b[39m f\n",
      "File \u001b[0;32m~/opt/anaconda3/lib/python3.9/dataclasses.py:747\u001b[0m, in \u001b[0;36m_get_field\u001b[0;34m(cls, a_name, a_type)\u001b[0m\n\u001b[1;32m    739\u001b[0m     \u001b[38;5;66;03m# Should I check for other field settings? default_factory\u001b[39;00m\n\u001b[1;32m    740\u001b[0m     \u001b[38;5;66;03m# seems the most serious to check for.  Maybe add others.  For\u001b[39;00m\n\u001b[1;32m    741\u001b[0m     \u001b[38;5;66;03m# example, how about init=False (or really,\u001b[39;00m\n\u001b[0;32m   (...)\u001b[0m\n\u001b[1;32m    744\u001b[0m \n\u001b[1;32m    745\u001b[0m \u001b[38;5;66;03m# For real fields, disallow mutable defaults for known types.\u001b[39;00m\n\u001b[1;32m    746\u001b[0m \u001b[38;5;28;01mif\u001b[39;00m f\u001b[38;5;241m.\u001b[39m_field_type \u001b[38;5;129;01mis\u001b[39;00m _FIELD \u001b[38;5;129;01mand\u001b[39;00m \u001b[38;5;28misinstance\u001b[39m(f\u001b[38;5;241m.\u001b[39mdefault, (\u001b[38;5;28mlist\u001b[39m, \u001b[38;5;28mdict\u001b[39m, \u001b[38;5;28mset\u001b[39m)):\n\u001b[0;32m--> 747\u001b[0m     \u001b[38;5;28;01mraise\u001b[39;00m \u001b[38;5;167;01mValueError\u001b[39;00m(\u001b[38;5;124mf\u001b[39m\u001b[38;5;124m'\u001b[39m\u001b[38;5;124mmutable default \u001b[39m\u001b[38;5;132;01m{\u001b[39;00m\u001b[38;5;28mtype\u001b[39m(f\u001b[38;5;241m.\u001b[39mdefault)\u001b[38;5;132;01m}\u001b[39;00m\u001b[38;5;124m for field \u001b[39m\u001b[38;5;124m'\u001b[39m\n\u001b[1;32m    748\u001b[0m                      \u001b[38;5;124mf\u001b[39m\u001b[38;5;124m'\u001b[39m\u001b[38;5;132;01m{\u001b[39;00mf\u001b[38;5;241m.\u001b[39mname\u001b[38;5;132;01m}\u001b[39;00m\u001b[38;5;124m is not allowed: use default_factory\u001b[39m\u001b[38;5;124m'\u001b[39m)\n\u001b[1;32m    750\u001b[0m \u001b[38;5;28;01mreturn\u001b[39;00m f\n",
      "\u001b[0;31mValueError\u001b[0m: mutable default <class 'list'> for field ingredients is not allowed: use default_factory"
     ]
    }
   ],
   "source": [
    "# default_factory\n",
    "@dataclass(order=True)\n",
    "class Item:\n",
    "    name: str\n",
    "    price:float = field(compare=False)\n",
    "    quantity: int = field(default=0, repr=False)\n",
    "    ingredients: list[str] = []"
   ]
  },
  {
   "cell_type": "code",
   "execution_count": 117,
   "metadata": {
    "slideshow": {
     "slide_type": "slide"
    }
   },
   "outputs": [],
   "source": [
    "# default_factory\n",
    "@dataclass(order=True)\n",
    "class Item:\n",
    "    name: str\n",
    "    price:float = field(compare=False)\n",
    "    quantity: int = field(default=0, repr=False)\n",
    "    ingredients: list[str] = field(default_factory=list)"
   ]
  },
  {
   "cell_type": "code",
   "execution_count": 118,
   "metadata": {
    "slideshow": {
     "slide_type": "fragment"
    }
   },
   "outputs": [
    {
     "data": {
      "text/plain": [
       "Item(name='compu', price=300, ingredients=['salut', 'u'])"
      ]
     },
     "execution_count": 118,
     "metadata": {},
     "output_type": "execute_result"
    }
   ],
   "source": [
    "i = Item(\"compu\", 300)\n",
    "i2 = Item(\"compu2\", 20)\n",
    "\n",
    "i.ingredients = [\"salut\", \"u\"]\n",
    "i"
   ]
  },
  {
   "cell_type": "markdown",
   "metadata": {
    "slideshow": {
     "slide_type": "slide"
    }
   },
   "source": [
    "### metadata"
   ]
  },
  {
   "cell_type": "code",
   "execution_count": 119,
   "metadata": {
    "slideshow": {
     "slide_type": "fragment"
    }
   },
   "outputs": [],
   "source": [
    "# metadata\n",
    "@dataclass(order=True)\n",
    "class Item:\n",
    "    name: str\n",
    "    price:float = field(compare=False, metadata={\"units\": \"euro\"})\n",
    "    quantity: int = field(default=0, repr=False)"
   ]
  },
  {
   "cell_type": "code",
   "execution_count": 120,
   "metadata": {
    "slideshow": {
     "slide_type": "fragment"
    }
   },
   "outputs": [
    {
     "data": {
      "text/plain": [
       "Field(name='price',type=<class 'float'>,default=<dataclasses._MISSING_TYPE object at 0x7f8399090f70>,default_factory=<dataclasses._MISSING_TYPE object at 0x7f8399090f70>,init=True,repr=True,hash=None,compare=False,metadata=mappingproxy({'units': 'euro'}),_field_type=_FIELD)"
      ]
     },
     "execution_count": 120,
     "metadata": {},
     "output_type": "execute_result"
    }
   ],
   "source": [
    "from dataclasses import fields\n",
    "\n",
    "\n",
    "i = Item(\"compu\", 300)\n",
    "fields(i)[1]"
   ]
  },
  {
   "cell_type": "markdown",
   "metadata": {
    "slideshow": {
     "slide_type": "slide"
    }
   },
   "source": [
    "## Hash\n",
    "\n",
    "If the object has a hash value then it can be used as a key for a dictionary or as an element in a set."
   ]
  },
  {
   "cell_type": "code",
   "execution_count": 121,
   "metadata": {
    "slideshow": {
     "slide_type": "fragment"
    }
   },
   "outputs": [
    {
     "ename": "TypeError",
     "evalue": "unhashable type: 'Item'",
     "output_type": "error",
     "traceback": [
      "\u001b[0;31m---------------------------------------------------------------------------\u001b[0m",
      "\u001b[0;31mTypeError\u001b[0m                                 Traceback (most recent call last)",
      "Input \u001b[0;32mIn [121]\u001b[0m, in \u001b[0;36m<cell line: 1>\u001b[0;34m()\u001b[0m\n\u001b[0;32m----> 1\u001b[0m \u001b[38;5;28;43mhash\u001b[39;49m\u001b[43m(\u001b[49m\u001b[43mi\u001b[49m\u001b[43m)\u001b[49m\n",
      "\u001b[0;31mTypeError\u001b[0m: unhashable type: 'Item'"
     ]
    }
   ],
   "source": [
    "hash(i)"
   ]
  },
  {
   "cell_type": "code",
   "execution_count": 122,
   "metadata": {
    "slideshow": {
     "slide_type": "slide"
    }
   },
   "outputs": [],
   "source": [
    "@dataclass(order=True, unsafe_hash=True)\n",
    "class Item:\n",
    "    name: str\n",
    "    price:float = field(compare=False)\n",
    "    quantity: int = field(default=0, repr=False)"
   ]
  },
  {
   "cell_type": "code",
   "execution_count": 123,
   "metadata": {
    "slideshow": {
     "slide_type": "fragment"
    }
   },
   "outputs": [
    {
     "data": {
      "text/plain": [
       "-6779222744390553206"
      ]
     },
     "execution_count": 123,
     "metadata": {},
     "output_type": "execute_result"
    }
   ],
   "source": [
    "i = Item(\"compu\", 300)\n",
    "hash(i)"
   ]
  },
  {
   "cell_type": "code",
   "execution_count": 124,
   "metadata": {
    "slideshow": {
     "slide_type": "fragment"
    }
   },
   "outputs": [
    {
     "data": {
      "text/plain": [
       "-7503103874712779167"
      ]
     },
     "execution_count": 124,
     "metadata": {},
     "output_type": "execute_result"
    }
   ],
   "source": [
    "i2 = Item(\"compu\", 500, 10)\n",
    "hash(i2)"
   ]
  },
  {
   "cell_type": "code",
   "execution_count": 125,
   "metadata": {
    "slideshow": {
     "slide_type": "slide"
    }
   },
   "outputs": [],
   "source": [
    "@dataclass(order=True, unsafe_hash=True)\n",
    "class Item:\n",
    "    name: str = field(hash=True)\n",
    "    price:float = field(compare=False, hash=False)\n",
    "    quantity: int = field(default=0, repr=False, hash=False)"
   ]
  },
  {
   "cell_type": "code",
   "execution_count": 127,
   "metadata": {
    "slideshow": {
     "slide_type": "fragment"
    }
   },
   "outputs": [
    {
     "data": {
      "text/plain": [
       "-3293060263487966230"
      ]
     },
     "execution_count": 127,
     "metadata": {},
     "output_type": "execute_result"
    }
   ],
   "source": [
    "i = Item(\"compu\", 300)\n",
    "hash(i)"
   ]
  },
  {
   "cell_type": "code",
   "execution_count": 128,
   "metadata": {
    "slideshow": {
     "slide_type": "fragment"
    }
   },
   "outputs": [
    {
     "data": {
      "text/plain": [
       "-3293060263487966230"
      ]
     },
     "execution_count": 128,
     "metadata": {},
     "output_type": "execute_result"
    }
   ],
   "source": [
    "i2 = Item(\"compu\", 500, 10)\n",
    "hash(i2)"
   ]
  },
  {
   "cell_type": "markdown",
   "metadata": {
    "slideshow": {
     "slide_type": "slide"
    }
   },
   "source": [
    "# 🐅 Level 3"
   ]
  },
  {
   "cell_type": "markdown",
   "metadata": {
    "slideshow": {
     "slide_type": "slide"
    }
   },
   "source": [
    "## Type"
   ]
  },
  {
   "cell_type": "code",
   "execution_count": 130,
   "metadata": {
    "slideshow": {
     "slide_type": "fragment"
    }
   },
   "outputs": [],
   "source": [
    "from typing import ClassVar\n",
    "# ClassVar\n",
    "@dataclass()\n",
    "class Item:\n",
    "    name: str\n",
    "    price:float\n",
    "    quantity: int = 0\n",
    "    brand: ClassVar[int] = 19"
   ]
  },
  {
   "cell_type": "code",
   "execution_count": 131,
   "metadata": {
    "slideshow": {
     "slide_type": "slide"
    }
   },
   "outputs": [
    {
     "name": "stdout",
     "output_type": "stream",
     "text": [
      "19\n"
     ]
    },
    {
     "data": {
      "text/plain": [
       "{'name': Field(name='name',type=<class 'str'>,default=<dataclasses._MISSING_TYPE object at 0x7f8399090f70>,default_factory=<dataclasses._MISSING_TYPE object at 0x7f8399090f70>,init=True,repr=True,hash=None,compare=True,metadata=mappingproxy({}),_field_type=_FIELD),\n",
       " 'price': Field(name='price',type=<class 'float'>,default=<dataclasses._MISSING_TYPE object at 0x7f8399090f70>,default_factory=<dataclasses._MISSING_TYPE object at 0x7f8399090f70>,init=True,repr=True,hash=None,compare=True,metadata=mappingproxy({}),_field_type=_FIELD),\n",
       " 'quantity': Field(name='quantity',type=<class 'int'>,default=0,default_factory=<dataclasses._MISSING_TYPE object at 0x7f8399090f70>,init=True,repr=True,hash=None,compare=True,metadata=mappingproxy({}),_field_type=_FIELD),\n",
       " 'brand': Field(name='brand',type=typing.ClassVar[int],default=19,default_factory=<dataclasses._MISSING_TYPE object at 0x7f8399090f70>,init=True,repr=True,hash=None,compare=True,metadata=mappingproxy({}),_field_type=_FIELD_CLASSVAR)}"
      ]
     },
     "execution_count": 131,
     "metadata": {},
     "output_type": "execute_result"
    }
   ],
   "source": [
    "i = Item(\"compu\", 300)\n",
    "print(i.brand)\n",
    "i.__dataclass_fields__"
   ]
  },
  {
   "cell_type": "code",
   "execution_count": 132,
   "metadata": {
    "slideshow": {
     "slide_type": "slide"
    }
   },
   "outputs": [
    {
     "data": {
      "text/plain": [
       "35"
      ]
     },
     "execution_count": 132,
     "metadata": {},
     "output_type": "execute_result"
    }
   ],
   "source": [
    "Item.brand = 35\n",
    "Item.brand"
   ]
  },
  {
   "cell_type": "code",
   "execution_count": 133,
   "metadata": {
    "slideshow": {
     "slide_type": "fragment"
    }
   },
   "outputs": [
    {
     "data": {
      "text/plain": [
       "35"
      ]
     },
     "execution_count": 133,
     "metadata": {},
     "output_type": "execute_result"
    }
   ],
   "source": [
    "i.brand"
   ]
  },
  {
   "cell_type": "markdown",
   "metadata": {
    "slideshow": {
     "slide_type": "slide"
    }
   },
   "source": [
    "## Slots\n"
   ]
  },
  {
   "cell_type": "markdown",
   "metadata": {
    "slideshow": {
     "slide_type": "fragment"
    }
   },
   "source": [
    "\n",
    "Optimizing with slots\n",
    "\n",
    "* Slots can be used to make classes faster and use less memory. \n",
    "* Data classes have no explicit syntax for working with slots, \n",
    "* but the normal way of creating slots works for data classes as well. (They really are just regular classes!)\n",
    "\n",
    "More info: https://stackoverflow.com/questions/472000/usage-of-slots"
   ]
  },
  {
   "cell_type": "code",
   "execution_count": 139,
   "metadata": {
    "slideshow": {
     "slide_type": "slide"
    }
   },
   "outputs": [],
   "source": [
    "from dataclasses import dataclass\n",
    "\n",
    "@dataclass\n",
    "class SimplePosition:\n",
    "    name: str\n",
    "    lon: float\n",
    "    lat: float\n",
    "\n",
    "@dataclass\n",
    "class SlotPosition:\n",
    "    __slots__ = ['name', 'lon', 'lat']\n",
    "    name: str\n",
    "    lon: float\n",
    "    lat: float\n",
    "\n",
    "# The benefit of adding such restrictions is that certain optimizations may be done. \n",
    "# For instance, slots classes take up less memory, as can be measured using Pympler:"
   ]
  },
  {
   "cell_type": "code",
   "execution_count": 147,
   "metadata": {
    "slideshow": {
     "slide_type": "slide"
    }
   },
   "outputs": [
    {
     "data": {
      "text/plain": [
       "0.04368233400009558"
      ]
     },
     "execution_count": 147,
     "metadata": {},
     "output_type": "execute_result"
    }
   ],
   "source": [
    "from timeit import timeit\n",
    "timeit('slot.name', setup=\"slot=SlotPosition('Oslo', 10.8, 59.9)\", globals=globals())\n",
    "# 0.026604000013321638\n"
   ]
  },
  {
   "cell_type": "code",
   "execution_count": 148,
   "metadata": {
    "slideshow": {
     "slide_type": "fragment"
    }
   },
   "outputs": [
    {
     "data": {
      "text/plain": [
       "0.049237374999847816"
      ]
     },
     "execution_count": 148,
     "metadata": {},
     "output_type": "execute_result"
    }
   ],
   "source": [
    "timeit('simple.name', setup=\"simple=SimplePosition('Oslo', 10.8, 59.9)\", globals=globals())\n",
    "# 0.04622900002868846\n",
    "\n",
    "# 35% faster"
   ]
  },
  {
   "cell_type": "markdown",
   "metadata": {
    "slideshow": {
     "slide_type": "slide"
    }
   },
   "source": [
    "# 🧐 But...\n",
    "\n",
    "## Data Class  as a Code Smell\n",
    "\n",
    "Be aware that it may signal a problem in your design.\n",
    "\n",
    "In Refactoring: \"Improving the Design of Existing Code, 2nd ed. (Addison-Wesley)\", Martin Fowler and Kent Beck present a catalog of “code smells”—patterns in code that may indicate the need for refactoring. The entry titled “Data Class” starts like this:\n",
    "\n",
    "> These are classes that have fields, getting and setting methods for fields, and nothing else. Such classes are dumb data holders and are often being manipulated in far too much detail by other classes.\n",
    "\n",
    "In Fowler’s personal website, there’s an illuminating post titled “Code Smell” (https://martinfowler.com/bliki/CodeSmell.html)\n"
   ]
  },
  {
   "cell_type": "markdown",
   "metadata": {
    "slideshow": {
     "slide_type": "slide"
    }
   },
   "source": [
    "# 🧐 But...\n",
    "\n",
    "## Dataclasses are good to hold data\n",
    "* as scaffolding\n",
    "* as intermediate representation"
   ]
  },
  {
   "cell_type": "markdown",
   "metadata": {
    "slideshow": {
     "slide_type": "slide"
    }
   },
   "source": [
    "# 😎 Conclusion\n",
    "\n",
    "* Data classes are one of the new features of Python 3.7. \n",
    "* You do not have to write boilerplate code to get proper initialization, representation, and comparisons for your objects.\n",
    "\n"
   ]
  },
  {
   "cell_type": "code",
   "execution_count": 149,
   "metadata": {
    "slideshow": {
     "slide_type": "fragment"
    }
   },
   "outputs": [
    {
     "ename": "TypeError",
     "evalue": "unsupported operand type(s) for |: 'type' and 'NoneType'",
     "output_type": "error",
     "traceback": [
      "\u001b[0;31m---------------------------------------------------------------------------\u001b[0m",
      "\u001b[0;31mTypeError\u001b[0m                                 Traceback (most recent call last)",
      "Input \u001b[0;32mIn [149]\u001b[0m, in \u001b[0;36m<cell line: 3>\u001b[0;34m()\u001b[0m\n\u001b[1;32m      1\u001b[0m \u001b[38;5;28;01mfrom\u001b[39;00m \u001b[38;5;21;01mtyping\u001b[39;00m \u001b[38;5;28;01mimport\u001b[39;00m ClassVar\n\u001b[1;32m      3\u001b[0m \u001b[38;5;129m@dataclass\u001b[39m(order\u001b[38;5;241m=\u001b[39m\u001b[38;5;28;01mTrue\u001b[39;00m, frozen\u001b[38;5;241m=\u001b[39m\u001b[38;5;28;01mTrue\u001b[39;00m, unsafe_hash\u001b[38;5;241m=\u001b[39m\u001b[38;5;28;01mTrue\u001b[39;00m)\n\u001b[0;32m----> 4\u001b[0m \u001b[38;5;28;01mclass\u001b[39;00m \u001b[38;5;21;01mItem\u001b[39;00m:\n\u001b[1;32m      5\u001b[0m     name: \u001b[38;5;28mstr\u001b[39m\n\u001b[1;32m      6\u001b[0m     price:\u001b[38;5;28mfloat\u001b[39m \u001b[38;5;241m=\u001b[39m field(compare\u001b[38;5;241m=\u001b[39m\u001b[38;5;28;01mFalse\u001b[39;00m, \u001b[38;5;28mhash\u001b[39m\u001b[38;5;241m=\u001b[39m\u001b[38;5;28;01mFalse\u001b[39;00m)\n",
      "Input \u001b[0;32mIn [149]\u001b[0m, in \u001b[0;36mItem\u001b[0;34m()\u001b[0m\n\u001b[1;32m      5\u001b[0m name: \u001b[38;5;28mstr\u001b[39m\n\u001b[1;32m      6\u001b[0m price:\u001b[38;5;28mfloat\u001b[39m \u001b[38;5;241m=\u001b[39m field(compare\u001b[38;5;241m=\u001b[39m\u001b[38;5;28;01mFalse\u001b[39;00m, \u001b[38;5;28mhash\u001b[39m\u001b[38;5;241m=\u001b[39m\u001b[38;5;28;01mFalse\u001b[39;00m)\n\u001b[0;32m----> 7\u001b[0m sku: \u001b[38;5;28;43mint\u001b[39;49m\u001b[43m \u001b[49m\u001b[38;5;241;43m|\u001b[39;49m\u001b[43m \u001b[49m\u001b[38;5;28;43;01mNone\u001b[39;49;00m \u001b[38;5;241m=\u001b[39m \u001b[38;5;28;01mNone\u001b[39;00m\n\u001b[1;32m      8\u001b[0m quantity: \u001b[38;5;28mint\u001b[39m \u001b[38;5;241m=\u001b[39m field(default\u001b[38;5;241m=\u001b[39m\u001b[38;5;241m0\u001b[39m, \u001b[38;5;28mrepr\u001b[39m\u001b[38;5;241m=\u001b[39m\u001b[38;5;28;01mFalse\u001b[39;00m, \u001b[38;5;28mhash\u001b[39m\u001b[38;5;241m=\u001b[39m\u001b[38;5;28;01mFalse\u001b[39;00m)\n\u001b[1;32m      9\u001b[0m ingredients: \u001b[38;5;28mlist\u001b[39m[\u001b[38;5;28mstr\u001b[39m] \u001b[38;5;241m=\u001b[39m field(compare\u001b[38;5;241m=\u001b[39m\u001b[38;5;28;01mFalse\u001b[39;00m, default_factory\u001b[38;5;241m=\u001b[39m\u001b[38;5;28mlist\u001b[39m)\n",
      "\u001b[0;31mTypeError\u001b[0m: unsupported operand type(s) for |: 'type' and 'NoneType'"
     ]
    }
   ],
   "source": [
    "from typing import ClassVar\n",
    "\n",
    "@dataclass(order=True, frozen=True, unsafe_hash=True)\n",
    "class Item:\n",
    "    name: str\n",
    "    price:float = field(compare=False, hash=False)\n",
    "    sku: int | None = None\n",
    "    quantity: int = field(default=0, repr=False, hash=False)\n",
    "    ingredients: list[str] = field(compare=False, default_factory=list)\n",
    "    \n",
    "    brand: ClassVar[int] = 19\n"
   ]
  },
  {
   "cell_type": "markdown",
   "metadata": {
    "slideshow": {
     "slide_type": "slide"
    }
   },
   "source": [
    "# 📚 Sources"
   ]
  },
  {
   "cell_type": "markdown",
   "metadata": {
    "slideshow": {
     "slide_type": "fragment"
    }
   },
   "source": [
    "* Raymond Hettinger - Dataclasses: The code generator to end all code generators - PyCon 2018\n",
    "  * https://www.youtube.com/watch?v=T-TwcmT6Rcw\n",
    "* ArjanCodes - If you're not using Python DATA CLASSES yet, you should 🚀\n",
    "  * https://www.youtube.com/watch?v=vRVVyl9uaZc \n",
    "* mCoding - Python dataclasses will save you HOURS, also featuring attrs\n",
    "  * https://www.youtube.com/watch?v=vBH6GRJ1REM \n",
    "* John Watson Rooney - How I Organize Data In Python with Dataclasses\n",
    "  * https://www.youtube.com/watch?v=5mpLJxKfnXQ \n",
    "* https://docs.python.org/3/library/dataclasses.html\n",
    "* https://www.invivoo.com/dataclasses-python/\n",
    "\n"
   ]
  },
  {
   "cell_type": "markdown",
   "metadata": {
    "slideshow": {
     "slide_type": "skip"
    }
   },
   "source": [
    "# README\n",
    "\n",
    " jupyter nbextension enable rise --py --sys-prefix"
   ]
  }
 ],
 "metadata": {
  "celltoolbar": "Diaporama",
  "interpreter": {
   "hash": "5f08785a7ad9f8cb22a5f9f652aa350745b8ffbafa331f70cb89124670585179"
  },
  "kernelspec": {
   "display_name": "Python 3 (ipykernel)",
   "language": "python",
   "name": "python3"
  },
  "language_info": {
   "codemirror_mode": {
    "name": "ipython",
    "version": 3
   },
   "file_extension": ".py",
   "mimetype": "text/x-python",
   "name": "python",
   "nbconvert_exporter": "python",
   "pygments_lexer": "ipython3",
   "version": "3.9.12"
  }
 },
 "nbformat": 4,
 "nbformat_minor": 4
}
