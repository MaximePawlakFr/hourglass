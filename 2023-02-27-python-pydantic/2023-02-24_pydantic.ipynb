{
 "cells": [
  {
   "attachments": {},
   "cell_type": "markdown",
   "metadata": {
    "slideshow": {
     "slide_type": "slide"
    }
   },
   "source": [
    "# Getting started with Pydantic (and superpower your dataclasses)\n",
    "\n",
    "2023-02-24"
   ]
  },
  {
   "cell_type": "markdown",
   "metadata": {
    "slideshow": {
     "slide_type": "slide"
    },
    "tags": []
   },
   "source": [
    "# Bonjour à tous 👋"
   ]
  },
  {
   "attachments": {},
   "cell_type": "markdown",
   "metadata": {
    "slideshow": {
     "slide_type": "slide"
    }
   },
   "source": [
    "# 🛣️ Agenda\n",
    "\n",
    "1. Dataclass is cool\n",
    "2. Pydantic is nice\n",
    "3. Pydantic - Level II\n"
   ]
  },
  {
   "attachments": {},
   "cell_type": "markdown",
   "metadata": {
    "slideshow": {
     "slide_type": "slide"
    }
   },
   "source": [
    "# 1 - Dataclass is cool\n",
    "\n",
    "* It was originally described in PEP 557.\n",
    "\n",
    "* Python 3.7 (Jun. 2018)"
   ]
  },
  {
   "cell_type": "code",
   "execution_count": 1,
   "metadata": {
    "slideshow": {
     "slide_type": "slide"
    },
    "tags": []
   },
   "outputs": [],
   "source": [
    "from dataclasses import dataclass, field\n",
    "from typing import ClassVar, Optional\n",
    "from datetime import datetime\n",
    "\n",
    "@dataclass(order=True, frozen=True, unsafe_hash=True)\n",
    "class Item:\n",
    "    id:int\n",
    "    name: str\n",
    "    price:float = field(compare=False, hash=False)\n",
    "    sku: int | None = None\n",
    "    quantity: int = field(default=0, repr=False, hash=False)\n",
    "    ingredients: list[str] = field(compare=False, default_factory=list)\n",
    "    added_at : Optional[datetime] = field(default_factory=datetime.now)\n",
    "    brand: ClassVar[int] = 19\n"
   ]
  },
  {
   "cell_type": "code",
   "execution_count": 2,
   "metadata": {
    "slideshow": {
     "slide_type": "fragment"
    }
   },
   "outputs": [
    {
     "data": {
      "text/plain": [
       "Item(id=1, name='compu', price=10, sku=None, ingredients=[], added_at=datetime.datetime(2023, 2, 28, 9, 51, 54, 707731))"
      ]
     },
     "execution_count": 2,
     "metadata": {},
     "output_type": "execute_result"
    }
   ],
   "source": [
    "i = Item(1, \"compu\", 10)\n",
    "i\n"
   ]
  },
  {
   "cell_type": "markdown",
   "metadata": {},
   "source": [
    "## But dataclass has limitations"
   ]
  },
  {
   "cell_type": "code",
   "execution_count": 3,
   "metadata": {},
   "outputs": [
    {
     "data": {
      "text/plain": [
       "{'items': [{'id': 123,\n",
       "   'price': 152,\n",
       "   'quantity': 65,\n",
       "   'ingredients': ['roquefort', 'camembert'],\n",
       "   'name': 'you'},\n",
       "  {'id': 456,\n",
       "   'price': '245',\n",
       "   'quantity': -10,\n",
       "   'ingredients': ['comté', 'st nectaire', 31000],\n",
       "   'name': 'tartine',\n",
       "   'added_at': '2021-03-20T00:00:00'}]}"
      ]
     },
     "execution_count": 3,
     "metadata": {},
     "output_type": "execute_result"
    }
   ],
   "source": [
    "import json\n",
    "data = json.load(open(\"./2023-02-24_pydantic.json\"))\n",
    "data"
   ]
  },
  {
   "cell_type": "code",
   "execution_count": 4,
   "metadata": {},
   "outputs": [
    {
     "data": {
      "text/plain": [
       "[Item(id=123, name='you', price=152, sku=None, ingredients=['roquefort', 'camembert'], added_at=datetime.datetime(2023, 2, 28, 9, 51, 56, 126017)),\n",
       " Item(id=456, name='tartine', price='245', sku=None, ingredients=['comté', 'st nectaire', 31000], added_at='2021-03-20T00:00:00')]"
      ]
     },
     "execution_count": 4,
     "metadata": {},
     "output_type": "execute_result"
    }
   ],
   "source": [
    "# Read from json\n",
    "items = [Item(**item) for item in data[\"items\"]]\n",
    "items"
   ]
  },
  {
   "cell_type": "code",
   "execution_count": 5,
   "metadata": {},
   "outputs": [
    {
     "data": {
      "text/plain": [
       "'you'"
      ]
     },
     "execution_count": 5,
     "metadata": {},
     "output_type": "execute_result"
    }
   ],
   "source": [
    "# dot notation\n",
    "items[0].name"
   ]
  },
  {
   "cell_type": "code",
   "execution_count": 6,
   "metadata": {},
   "outputs": [
    {
     "data": {
      "text/plain": [
       "{'id': 123,\n",
       " 'name': 'you',\n",
       " 'price': 152,\n",
       " 'sku': None,\n",
       " 'quantity': 65,\n",
       " 'ingredients': ['roquefort', 'camembert'],\n",
       " 'added_at': datetime.datetime(2023, 2, 28, 9, 51, 56, 126017)}"
      ]
     },
     "execution_count": 6,
     "metadata": {},
     "output_type": "execute_result"
    }
   ],
   "source": [
    "items[0].__dict__"
   ]
  },
  {
   "attachments": {},
   "cell_type": "markdown",
   "metadata": {},
   "source": [
    "But\n",
    "* no type checking at runtime\n",
    "* no parsing\n",
    "* no validation"
   ]
  },
  {
   "attachments": {},
   "cell_type": "markdown",
   "metadata": {},
   "source": [
    "# 2 - Pydantic is nice"
   ]
  },
  {
   "cell_type": "markdown",
   "metadata": {},
   "source": [
    "## Getting started"
   ]
  },
  {
   "cell_type": "code",
   "execution_count": 7,
   "metadata": {},
   "outputs": [],
   "source": [
    "from dataclasses import dataclass, field\n",
    "from typing import ClassVar, Optional\n",
    "from datetime import datetime\n",
    "from pydantic import BaseModel\n",
    "\n",
    "class Item(BaseModel):\n",
    "    id:int\n",
    "    name: str\n",
    "    price:float\n",
    "    sku: int | None = None\n",
    "    quantity: int = 0\n",
    "    ingredients: list[str] = []\n",
    "    added_at : Optional[datetime] = datetime.now()\n",
    "    brand: ClassVar[int] = 19\n"
   ]
  },
  {
   "cell_type": "code",
   "execution_count": 8,
   "metadata": {},
   "outputs": [
    {
     "data": {
      "text/plain": [
       "Item(id=1, name='compu', price=10.0, sku=None, quantity=0, ingredients=[], added_at=datetime.datetime(2023, 2, 28, 9, 52, 3, 295250))"
      ]
     },
     "execution_count": 8,
     "metadata": {},
     "output_type": "execute_result"
    }
   ],
   "source": [
    "i = Item(id=1, name=\"compu\", price=10)\n",
    "i\n",
    "# Pydantic objects don't support positional arguments unless you implement it yourself: https://stackoverflow.com/questions/73156982/allow-positional-arguments-for-basemodel-pydantic"
   ]
  },
  {
   "cell_type": "code",
   "execution_count": 9,
   "metadata": {},
   "outputs": [
    {
     "data": {
      "text/plain": [
       "[Item(id=123, name='you', price=152.0, sku=None, quantity=65, ingredients=['roquefort', 'camembert'], added_at=datetime.datetime(2023, 2, 28, 9, 52, 3, 295250)),\n",
       " Item(id=456, name='tartine', price=245.0, sku=None, quantity=-10, ingredients=['comté', 'st nectaire', '31000'], added_at=datetime.datetime(2021, 3, 20, 0, 0))]"
      ]
     },
     "execution_count": 9,
     "metadata": {},
     "output_type": "execute_result"
    }
   ],
   "source": [
    "import json\n",
    "data = json.load(open(\"./2023-02-24_pydantic.json\"))\n",
    "\n",
    "# Read from json\n",
    "items = [Item(**item) for item in data[\"items\"]]\n",
    "items"
   ]
  },
  {
   "cell_type": "code",
   "execution_count": 10,
   "metadata": {},
   "outputs": [
    {
     "data": {
      "text/plain": [
       "{'id': 123,\n",
       " 'name': 'you',\n",
       " 'price': 152.0,\n",
       " 'sku': None,\n",
       " 'quantity': 65,\n",
       " 'ingredients': ['roquefort', 'camembert'],\n",
       " 'added_at': datetime.datetime(2023, 2, 28, 9, 52, 3, 295250)}"
      ]
     },
     "execution_count": 10,
     "metadata": {},
     "output_type": "execute_result"
    }
   ],
   "source": [
    "item = items[0]\n",
    "item.dict()"
   ]
  },
  {
   "attachments": {},
   "cell_type": "markdown",
   "metadata": {},
   "source": [
    "## Field"
   ]
  },
  {
   "cell_type": "code",
   "execution_count": 38,
   "metadata": {},
   "outputs": [
    {
     "data": {
      "text/plain": [
       "Item(id=0, name='', price=10.0)"
      ]
     },
     "execution_count": 38,
     "metadata": {},
     "output_type": "execute_result"
    }
   ],
   "source": [
    "# Default\n",
    "from pydantic import BaseModel, Field\n",
    "\n",
    "class Item(BaseModel):\n",
    "    id:int = Field(default=0)\n",
    "    name: str = Field(default=\"\")\n",
    "    price:float\n",
    "\n",
    "i = Item(price=10)\n",
    "i"
   ]
  },
  {
   "cell_type": "code",
   "execution_count": 41,
   "metadata": {},
   "outputs": [
    {
     "ename": "ValidationError",
     "evalue": "3 validation errors for Item\nname\n  ensure this value has at most 3 characters (type=value_error.any_str.max_length; limit_value=3)\nprice\n  ensure this value is greater than 10 (type=value_error.number.not_gt; limit_value=10)\ningredients\n  ensure this value has at most 2 items (type=value_error.list.max_items; limit_value=2)",
     "output_type": "error",
     "traceback": [
      "\u001b[0;31m---------------------------------------------------------------------------\u001b[0m",
      "\u001b[0;31mValidationError\u001b[0m                           Traceback (most recent call last)",
      "Cell \u001b[0;32mIn[41], line 10\u001b[0m\n\u001b[1;32m      7\u001b[0m     price:\u001b[39mfloat\u001b[39m \u001b[39m=\u001b[39m Field(gt\u001b[39m=\u001b[39m\u001b[39m10\u001b[39m, le\u001b[39m=\u001b[39m\u001b[39m20\u001b[39m, exclude\u001b[39m=\u001b[39m\u001b[39mTrue\u001b[39;00m)\n\u001b[1;32m      8\u001b[0m     ingredients: \u001b[39mlist\u001b[39m[\u001b[39mstr\u001b[39m] \u001b[39m=\u001b[39m Field(max_items\u001b[39m=\u001b[39m\u001b[39m2\u001b[39m)\n\u001b[0;32m---> 10\u001b[0m i \u001b[39m=\u001b[39m Item(name\u001b[39m=\u001b[39;49m\u001b[39m\"\u001b[39;49m\u001b[39mcompu\u001b[39;49m\u001b[39m\"\u001b[39;49m, price\u001b[39m=\u001b[39;49m\u001b[39m9\u001b[39;49m, ingredients\u001b[39m=\u001b[39;49m[\u001b[39m\"\u001b[39;49m\u001b[39mapple\u001b[39;49m\u001b[39m\"\u001b[39;49m, \u001b[39m\"\u001b[39;49m\u001b[39mmanzana\u001b[39;49m\u001b[39m\"\u001b[39;49m, \u001b[39m\"\u001b[39;49m\u001b[39mpomme\u001b[39;49m\u001b[39m\"\u001b[39;49m])\n\u001b[1;32m     11\u001b[0m i\n",
      "File \u001b[0;32m~/.local/share/virtualenvs/2023-02-pydantic-HIYLJ1dG/lib/python3.10/site-packages/pydantic/main.py:342\u001b[0m, in \u001b[0;36mpydantic.main.BaseModel.__init__\u001b[0;34m()\u001b[0m\n",
      "\u001b[0;31mValidationError\u001b[0m: 3 validation errors for Item\nname\n  ensure this value has at most 3 characters (type=value_error.any_str.max_length; limit_value=3)\nprice\n  ensure this value is greater than 10 (type=value_error.number.not_gt; limit_value=10)\ningredients\n  ensure this value has at most 2 items (type=value_error.list.max_items; limit_value=2)"
     ]
    }
   ],
   "source": [
    "# Default\n",
    "from pydantic import BaseModel, Field\n",
    "\n",
    "class Item(BaseModel):\n",
    "    id:int = Field(default=0)\n",
    "    name: str = Field(default=\"\", max_length=3)\n",
    "    price:float = Field(gt=10, le=20, exclude=True)\n",
    "    ingredients: list[str] = Field(max_items=2)\n",
    "\n",
    "i = Item(name=\"compu\", price=9, ingredients=[\"apple\", \"manzana\", \"pomme\"])\n",
    "i"
   ]
  },
  {
   "cell_type": "code",
   "execution_count": 43,
   "metadata": {},
   "outputs": [
    {
     "data": {
      "text/plain": [
       "{'id': 0, 'name': '', 'ingredients': ['apple', 'manzana']}"
      ]
     },
     "execution_count": 43,
     "metadata": {},
     "output_type": "execute_result"
    }
   ],
   "source": [
    "i = Item(price=11, ingredients=[\"apple\", \"manzana\"])\n",
    "i.dict()\n",
    "# Price is excluded"
   ]
  },
  {
   "attachments": {},
   "cell_type": "markdown",
   "metadata": {},
   "source": [
    "* default, alias, title, description, exclude, include, gt, ge, lt, le, mutliple_of, min_items, max_items, min_length, max_length, regex...\n",
    "\n",
    "More infos at: https://docs.pydantic.dev/usage/schema/#field-customization"
   ]
  },
  {
   "cell_type": "code",
   "execution_count": null,
   "metadata": {},
   "outputs": [],
   "source": []
  },
  {
   "cell_type": "markdown",
   "metadata": {},
   "source": [
    "### Literal"
   ]
  },
  {
   "cell_type": "code",
   "execution_count": 12,
   "metadata": {},
   "outputs": [],
   "source": [
    "# Literal\n",
    "from dataclasses import dataclass, field\n",
    "from typing import Literal\n",
    "\n",
    "@dataclass\n",
    "class Item():\n",
    "    id:int\n",
    "    name: Literal[\"apple\", \"ddmanzana\"]\n",
    "    price:float"
   ]
  },
  {
   "cell_type": "code",
   "execution_count": 14,
   "metadata": {},
   "outputs": [
    {
     "data": {
      "text/plain": [
       "Item(id=1, name='aa', price=3)"
      ]
     },
     "execution_count": 14,
     "metadata": {},
     "output_type": "execute_result"
    }
   ],
   "source": [
    "i = Item(1, \"aa\", 3)\n",
    "i\n",
    "# It should not work"
   ]
  },
  {
   "cell_type": "code",
   "execution_count": 17,
   "metadata": {},
   "outputs": [],
   "source": [
    "from dataclasses import dataclass, field\n",
    "from typing import ClassVar, Optional\n",
    "from datetime import datetime\n",
    "from pydantic import BaseModel\n",
    "\n",
    "class Item(BaseModel):\n",
    "    id:int | str\n",
    "    name: Literal[\"apple\", \"pomme\"]\n",
    "    price:float\n"
   ]
  },
  {
   "cell_type": "code",
   "execution_count": 18,
   "metadata": {},
   "outputs": [
    {
     "ename": "ValidationError",
     "evalue": "1 validation error for Item\nname\n  unexpected value; permitted: 'apple', 'pomme' (type=value_error.const; given=compu; permitted=('apple', 'pomme'))",
     "output_type": "error",
     "traceback": [
      "\u001b[0;31m---------------------------------------------------------------------------\u001b[0m",
      "\u001b[0;31mValidationError\u001b[0m                           Traceback (most recent call last)",
      "Cell \u001b[0;32mIn[18], line 1\u001b[0m\n\u001b[0;32m----> 1\u001b[0m i \u001b[39m=\u001b[39m Item(\u001b[39mid\u001b[39;49m\u001b[39m=\u001b[39;49m\u001b[39m1\u001b[39;49m, name\u001b[39m=\u001b[39;49m\u001b[39m\"\u001b[39;49m\u001b[39mcompu\u001b[39;49m\u001b[39m\"\u001b[39;49m, price\u001b[39m=\u001b[39;49m\u001b[39m10\u001b[39;49m)\n\u001b[1;32m      2\u001b[0m i\n",
      "File \u001b[0;32m~/.local/share/virtualenvs/2023-02-pydantic-HIYLJ1dG/lib/python3.10/site-packages/pydantic/main.py:342\u001b[0m, in \u001b[0;36mpydantic.main.BaseModel.__init__\u001b[0;34m()\u001b[0m\n",
      "\u001b[0;31mValidationError\u001b[0m: 1 validation error for Item\nname\n  unexpected value; permitted: 'apple', 'pomme' (type=value_error.const; given=compu; permitted=('apple', 'pomme'))"
     ]
    }
   ],
   "source": [
    "i = Item(id=1, name=\"compu\", price=10)\n",
    "i"
   ]
  },
  {
   "cell_type": "code",
   "execution_count": 19,
   "metadata": {},
   "outputs": [
    {
     "data": {
      "text/plain": [
       "Item(id=1, name='apple', price=10.0)"
      ]
     },
     "execution_count": 19,
     "metadata": {},
     "output_type": "execute_result"
    }
   ],
   "source": [
    "i = Item(id=1, name=\"apple\", price=10)\n",
    "i"
   ]
  },
  {
   "cell_type": "markdown",
   "metadata": {},
   "source": [
    "### Required Fields"
   ]
  },
  {
   "cell_type": "code",
   "execution_count": 25,
   "metadata": {},
   "outputs": [],
   "source": [
    "# By default all annotated fields are required\n",
    "from pydantic import BaseModel\n",
    "\n",
    "class Item(BaseModel):\n",
    "    id:int \n",
    "    name: str \n",
    "    price:float\n"
   ]
  },
  {
   "cell_type": "code",
   "execution_count": 26,
   "metadata": {},
   "outputs": [
    {
     "ename": "ValidationError",
     "evalue": "2 validation errors for Item\nname\n  field required (type=value_error.missing)\nprice\n  field required (type=value_error.missing)",
     "output_type": "error",
     "traceback": [
      "\u001b[0;31m---------------------------------------------------------------------------\u001b[0m",
      "\u001b[0;31mValidationError\u001b[0m                           Traceback (most recent call last)",
      "Cell \u001b[0;32mIn[26], line 1\u001b[0m\n\u001b[0;32m----> 1\u001b[0m i \u001b[39m=\u001b[39m Item(\u001b[39mid\u001b[39;49m\u001b[39m=\u001b[39;49m\u001b[39m1\u001b[39;49m)\n\u001b[1;32m      2\u001b[0m i\n",
      "File \u001b[0;32m~/.local/share/virtualenvs/2023-02-pydantic-HIYLJ1dG/lib/python3.10/site-packages/pydantic/main.py:342\u001b[0m, in \u001b[0;36mpydantic.main.BaseModel.__init__\u001b[0;34m()\u001b[0m\n",
      "\u001b[0;31mValidationError\u001b[0m: 2 validation errors for Item\nname\n  field required (type=value_error.missing)\nprice\n  field required (type=value_error.missing)"
     ]
    }
   ],
   "source": [
    "i = Item(id=1)\n",
    "i"
   ]
  },
  {
   "cell_type": "code",
   "execution_count": 27,
   "metadata": {},
   "outputs": [],
   "source": [
    "# Optional\n",
    "from pydantic import BaseModel\n",
    "\n",
    "class Item(BaseModel):\n",
    "    id:int | None\n",
    "    name: str \n",
    "    price:float\n"
   ]
  },
  {
   "cell_type": "code",
   "execution_count": 30,
   "metadata": {},
   "outputs": [
    {
     "data": {
      "text/plain": [
       "Item(id=None, name='1', price=10.0)"
      ]
     },
     "execution_count": 30,
     "metadata": {},
     "output_type": "execute_result"
    }
   ],
   "source": [
    "i = Item(name=1, price=10)\n",
    "i"
   ]
  },
  {
   "cell_type": "code",
   "execution_count": 44,
   "metadata": {},
   "outputs": [],
   "source": [
    "# Set Required\n",
    "from pydantic import BaseModel\n",
    "\n",
    "class Item(BaseModel):\n",
    "    id:int | None = ...\n",
    "    name: str \n",
    "    price:float\n"
   ]
  },
  {
   "cell_type": "code",
   "execution_count": 45,
   "metadata": {},
   "outputs": [
    {
     "ename": "ValidationError",
     "evalue": "1 validation error for Item\nid\n  field required (type=value_error.missing)",
     "output_type": "error",
     "traceback": [
      "\u001b[0;31m---------------------------------------------------------------------------\u001b[0m",
      "\u001b[0;31mValidationError\u001b[0m                           Traceback (most recent call last)",
      "Cell \u001b[0;32mIn[45], line 1\u001b[0m\n\u001b[0;32m----> 1\u001b[0m i \u001b[39m=\u001b[39m Item(name\u001b[39m=\u001b[39;49m\u001b[39m1\u001b[39;49m, price\u001b[39m=\u001b[39;49m\u001b[39m10\u001b[39;49m)\n\u001b[1;32m      2\u001b[0m i\n",
      "File \u001b[0;32m~/.local/share/virtualenvs/2023-02-pydantic-HIYLJ1dG/lib/python3.10/site-packages/pydantic/main.py:342\u001b[0m, in \u001b[0;36mpydantic.main.BaseModel.__init__\u001b[0;34m()\u001b[0m\n",
      "\u001b[0;31mValidationError\u001b[0m: 1 validation error for Item\nid\n  field required (type=value_error.missing)"
     ]
    }
   ],
   "source": [
    "i = Item(name=1, price=10)\n",
    "i"
   ]
  },
  {
   "cell_type": "code",
   "execution_count": 34,
   "metadata": {},
   "outputs": [
    {
     "data": {
      "text/plain": [
       "Item(id=None, name='1', price=10.0)"
      ]
     },
     "execution_count": 34,
     "metadata": {},
     "output_type": "execute_result"
    }
   ],
   "source": [
    "i = Item(id=None, name=1, price=10)\n",
    "i"
   ]
  },
  {
   "cell_type": "code",
   "execution_count": null,
   "metadata": {},
   "outputs": [],
   "source": [
    "# Required with ellipsis with Field\n",
    "from pydantic import BaseModel, Field\n",
    "\n",
    "class Item(BaseModel):\n",
    "    id:int = Field(default=...)\n",
    "    name: str = Field(default=\"\")\n",
    "    price:float\n",
    "\n",
    "i = Item(price=10)\n",
    "i"
   ]
  },
  {
   "cell_type": "markdown",
   "metadata": {},
   "source": [
    "## Validators"
   ]
  },
  {
   "cell_type": "code",
   "execution_count": 59,
   "metadata": {},
   "outputs": [],
   "source": [
    "from pydantic import BaseModel, validator\n",
    "\n",
    "\n",
    "class Item(BaseModel):\n",
    "    id:int\n",
    "    name: str\n",
    "    price:float\n",
    "    sku: int | None = None\n",
    "    quantity: int = 0\n",
    "    ingredients: list[str] = []\n",
    "    added_at : Optional[datetime] = datetime.now()\n",
    "    brand: ClassVar[int] = 19\n",
    "    \n",
    "    @validator('name')\n",
    "    def name_must_contain_space(cls, v):\n",
    "        if ' ' not in v:\n",
    "            raise ValueError('must contain a space')\n",
    "        return v.title()"
   ]
  },
  {
   "cell_type": "code",
   "execution_count": 60,
   "metadata": {},
   "outputs": [
    {
     "ename": "ValidationError",
     "evalue": "1 validation error for Item\nname\n  must contain a space (type=value_error)",
     "output_type": "error",
     "traceback": [
      "\u001b[0;31m---------------------------------------------------------------------------\u001b[0m",
      "\u001b[0;31mValidationError\u001b[0m                           Traceback (most recent call last)",
      "Cell \u001b[0;32mIn[60], line 1\u001b[0m\n\u001b[0;32m----> 1\u001b[0m i \u001b[39m=\u001b[39m Item(\u001b[39mid\u001b[39;49m\u001b[39m=\u001b[39;49m\u001b[39m1\u001b[39;49m, name\u001b[39m=\u001b[39;49m\u001b[39m\"\u001b[39;49m\u001b[39mcompu\u001b[39;49m\u001b[39m\"\u001b[39;49m, price\u001b[39m=\u001b[39;49m\u001b[39m10\u001b[39;49m)\n\u001b[1;32m      2\u001b[0m i\n",
      "File \u001b[0;32m~/.local/share/virtualenvs/2023-02-pydantic-HIYLJ1dG/lib/python3.10/site-packages/pydantic/main.py:342\u001b[0m, in \u001b[0;36mpydantic.main.BaseModel.__init__\u001b[0;34m()\u001b[0m\n",
      "\u001b[0;31mValidationError\u001b[0m: 1 validation error for Item\nname\n  must contain a space (type=value_error)"
     ]
    }
   ],
   "source": [
    "i = Item(id=1, name=\"compu\", price=10)\n",
    "i"
   ]
  },
  {
   "cell_type": "code",
   "execution_count": 61,
   "metadata": {},
   "outputs": [
    {
     "data": {
      "text/plain": [
       "Item(id=1, name='Computer Asus', price=10.0, sku=None, quantity=0, ingredients=[], added_at=datetime.datetime(2023, 2, 27, 10, 34, 38, 482242))"
      ]
     },
     "execution_count": 61,
     "metadata": {},
     "output_type": "execute_result"
    }
   ],
   "source": [
    "i = Item(id=1, name=\"computer asus\", price=10)\n",
    "i"
   ]
  },
  {
   "cell_type": "code",
   "execution_count": 62,
   "metadata": {},
   "outputs": [],
   "source": [
    "from pydantic import BaseModel, ValidationError, validator\n",
    "\n",
    "\n",
    "class Item(BaseModel):\n",
    "    id:int\n",
    "    name: str\n",
    "    price:float\n",
    "    sku: int | None = None\n",
    "    quantity: int = 0\n",
    "    ingredients: list[str] = []\n",
    "    added_at : Optional[datetime] = datetime.now()\n",
    "    brand: ClassVar[int] = 19\n",
    "    \n",
    "    @validator('sku', 'quantity')\n",
    "    def check_int(cls, v):\n",
    "        if v < 0:\n",
    "            raise ValueError('value must be greather than 0')\n",
    "        return v"
   ]
  },
  {
   "cell_type": "code",
   "execution_count": 63,
   "metadata": {},
   "outputs": [
    {
     "data": {
      "text/plain": [
       "Item(id=1, name='computer asus', price=10.0, sku=None, quantity=0, ingredients=[], added_at=datetime.datetime(2023, 2, 27, 10, 34, 39, 91602))"
      ]
     },
     "execution_count": 63,
     "metadata": {},
     "output_type": "execute_result"
    }
   ],
   "source": [
    "i = Item(id=1, name=\"computer asus\", price=10)\n",
    "i"
   ]
  },
  {
   "cell_type": "code",
   "execution_count": 64,
   "metadata": {},
   "outputs": [
    {
     "ename": "ValidationError",
     "evalue": "1 validation error for Item\nsku\n  value must be greather than 0 (type=value_error)",
     "output_type": "error",
     "traceback": [
      "\u001b[0;31m---------------------------------------------------------------------------\u001b[0m",
      "\u001b[0;31mValidationError\u001b[0m                           Traceback (most recent call last)",
      "Cell \u001b[0;32mIn[64], line 1\u001b[0m\n\u001b[0;32m----> 1\u001b[0m i \u001b[39m=\u001b[39m Item(\u001b[39mid\u001b[39;49m\u001b[39m=\u001b[39;49m\u001b[39m1\u001b[39;49m, name\u001b[39m=\u001b[39;49m\u001b[39m\"\u001b[39;49m\u001b[39mcomputer asus\u001b[39;49m\u001b[39m\"\u001b[39;49m, price\u001b[39m=\u001b[39;49m\u001b[39m10\u001b[39;49m, sku\u001b[39m=\u001b[39;49m\u001b[39m-\u001b[39;49m\u001b[39m1\u001b[39;49m)\n\u001b[1;32m      2\u001b[0m i\n",
      "File \u001b[0;32m~/.local/share/virtualenvs/2023-02-pydantic-HIYLJ1dG/lib/python3.10/site-packages/pydantic/main.py:342\u001b[0m, in \u001b[0;36mpydantic.main.BaseModel.__init__\u001b[0;34m()\u001b[0m\n",
      "\u001b[0;31mValidationError\u001b[0m: 1 validation error for Item\nsku\n  value must be greather than 0 (type=value_error)"
     ]
    }
   ],
   "source": [
    "i = Item(id=1, name=\"computer asus\", price=10, sku=-1)\n",
    "i"
   ]
  },
  {
   "cell_type": "code",
   "execution_count": 65,
   "metadata": {},
   "outputs": [
    {
     "ename": "ValidationError",
     "evalue": "1 validation error for Item\nquantity\n  value must be greather than 0 (type=value_error)",
     "output_type": "error",
     "traceback": [
      "\u001b[0;31m---------------------------------------------------------------------------\u001b[0m",
      "\u001b[0;31mValidationError\u001b[0m                           Traceback (most recent call last)",
      "Cell \u001b[0;32mIn[65], line 1\u001b[0m\n\u001b[0;32m----> 1\u001b[0m i \u001b[39m=\u001b[39m Item(\u001b[39mid\u001b[39;49m\u001b[39m=\u001b[39;49m\u001b[39m1\u001b[39;49m, name\u001b[39m=\u001b[39;49m\u001b[39m\"\u001b[39;49m\u001b[39mcomputer asus\u001b[39;49m\u001b[39m\"\u001b[39;49m, price\u001b[39m=\u001b[39;49m\u001b[39m10\u001b[39;49m, quantity\u001b[39m=\u001b[39;49m\u001b[39m-\u001b[39;49m\u001b[39m1\u001b[39;49m)\n\u001b[1;32m      2\u001b[0m i\n",
      "File \u001b[0;32m~/.local/share/virtualenvs/2023-02-pydantic-HIYLJ1dG/lib/python3.10/site-packages/pydantic/main.py:342\u001b[0m, in \u001b[0;36mpydantic.main.BaseModel.__init__\u001b[0;34m()\u001b[0m\n",
      "\u001b[0;31mValidationError\u001b[0m: 1 validation error for Item\nquantity\n  value must be greather than 0 (type=value_error)"
     ]
    }
   ],
   "source": [
    "i = Item(id=1, name=\"computer asus\", price=10, quantity=-1)\n",
    "i"
   ]
  },
  {
   "cell_type": "code",
   "execution_count": 66,
   "metadata": {},
   "outputs": [],
   "source": [
    "# Check list\n",
    "from pydantic import BaseModel, ValidationError, validator\n",
    "\n",
    "\n",
    "class Item(BaseModel):\n",
    "    id:int\n",
    "    name: str\n",
    "    price:float\n",
    "    sku: int | None = None\n",
    "    quantity: int = 0\n",
    "    ingredients: list[str] = []\n",
    "    added_at : Optional[datetime] = datetime.now()\n",
    "    brand: ClassVar[int] = 19\n",
    "    \n",
    "    @validator('ingredients', each_item=True)\n",
    "    def check_ingredients(cls, v):\n",
    "        new_item = v.title()\n",
    "        return new_item"
   ]
  },
  {
   "cell_type": "code",
   "execution_count": 67,
   "metadata": {},
   "outputs": [
    {
     "data": {
      "text/plain": [
       "Item(id=1, name='computer asus', price=10.0, sku=None, quantity=0, ingredients=['Camembert', 'Comté'], added_at=datetime.datetime(2023, 2, 27, 10, 34, 40, 992465))"
      ]
     },
     "execution_count": 67,
     "metadata": {},
     "output_type": "execute_result"
    }
   ],
   "source": [
    "i = Item(id=1, name=\"computer asus\", price=10, ingredients=[\"camembert\", \"comté\"])\n",
    "i"
   ]
  },
  {
   "cell_type": "code",
   "execution_count": 76,
   "metadata": {},
   "outputs": [],
   "source": [
    "# Root validators\n",
    "# Check list\n",
    "from pydantic import BaseModel, ValidationError, root_validator\n",
    "\n",
    "\n",
    "class Item(BaseModel):\n",
    "    id:int\n",
    "    name: str\n",
    "    price:float\n",
    "    sku: int | None = None\n",
    "    quantity: int = 0\n",
    "    ingredients: list[str] = []\n",
    "    added_at : Optional[datetime] = datetime.now()\n",
    "    brand: ClassVar[int] = 19\n",
    "    \n",
    "    @root_validator(pre=True) #pre = before field validation occurs. Default = False\n",
    "    def check_sku_or_quantity(cls, values):\n",
    "        if \"sku\" not in values and \"quantity\" not in values:\n",
    "            raise ValueError(\"Item should have either sku or quantity\")\n",
    "        return values"
   ]
  },
  {
   "cell_type": "code",
   "execution_count": 77,
   "metadata": {},
   "outputs": [
    {
     "data": {
      "text/plain": [
       "Item(id=1, name='computer asus', price=10.0, sku=None, quantity=10, ingredients=[], added_at=datetime.datetime(2023, 2, 27, 10, 34, 57, 181930))"
      ]
     },
     "execution_count": 77,
     "metadata": {},
     "output_type": "execute_result"
    }
   ],
   "source": [
    "i = Item(id=1, name=\"computer asus\", price=10, quantity=10)\n",
    "i"
   ]
  },
  {
   "cell_type": "code",
   "execution_count": 78,
   "metadata": {},
   "outputs": [
    {
     "data": {
      "text/plain": [
       "Item(id=1, name='computer asus', price=10.0, sku=1, quantity=0, ingredients=[], added_at=datetime.datetime(2023, 2, 27, 10, 34, 57, 181930))"
      ]
     },
     "execution_count": 78,
     "metadata": {},
     "output_type": "execute_result"
    }
   ],
   "source": [
    "i = Item(id=1, name=\"computer asus\", price=10, sku=1)\n",
    "i"
   ]
  },
  {
   "cell_type": "code",
   "execution_count": 79,
   "metadata": {},
   "outputs": [
    {
     "ename": "ValidationError",
     "evalue": "1 validation error for Item\n__root__\n  Item should have either sku or quantity (type=value_error)",
     "output_type": "error",
     "traceback": [
      "\u001b[0;31m---------------------------------------------------------------------------\u001b[0m",
      "\u001b[0;31mValidationError\u001b[0m                           Traceback (most recent call last)",
      "Cell \u001b[0;32mIn[79], line 1\u001b[0m\n\u001b[0;32m----> 1\u001b[0m i \u001b[39m=\u001b[39m Item(\u001b[39mid\u001b[39;49m\u001b[39m=\u001b[39;49m\u001b[39m1\u001b[39;49m, name\u001b[39m=\u001b[39;49m\u001b[39m\"\u001b[39;49m\u001b[39mcomputer asus\u001b[39;49m\u001b[39m\"\u001b[39;49m, price\u001b[39m=\u001b[39;49m\u001b[39m10\u001b[39;49m)\n\u001b[1;32m      2\u001b[0m i\n",
      "File \u001b[0;32m~/.local/share/virtualenvs/2023-02-pydantic-HIYLJ1dG/lib/python3.10/site-packages/pydantic/main.py:342\u001b[0m, in \u001b[0;36mpydantic.main.BaseModel.__init__\u001b[0;34m()\u001b[0m\n",
      "\u001b[0;31mValidationError\u001b[0m: 1 validation error for Item\n__root__\n  Item should have either sku or quantity (type=value_error)"
     ]
    }
   ],
   "source": [
    "i = Item(id=1, name=\"computer asus\", price=10)\n",
    "i"
   ]
  },
  {
   "cell_type": "markdown",
   "metadata": {},
   "source": [
    "## Model Config"
   ]
  },
  {
   "cell_type": "code",
   "execution_count": 81,
   "metadata": {},
   "outputs": [],
   "source": [
    "from pydantic import BaseModel, ValidationError, root_validator\n",
    "\n",
    "\n",
    "class Item(BaseModel):\n",
    "    id:int\n",
    "    name: str\n",
    "    price:float\n",
    "\n",
    "    class Config:\n",
    "        max_anystr_length = 10 # Any field configurtion we saw before\n",
    "      "
   ]
  },
  {
   "cell_type": "code",
   "execution_count": 82,
   "metadata": {},
   "outputs": [
    {
     "data": {
      "text/plain": [
       "Item(id=1, name='computer', price=10.0)"
      ]
     },
     "execution_count": 82,
     "metadata": {},
     "output_type": "execute_result"
    }
   ],
   "source": [
    "i = Item(id=1, name=\"computer\", price=10)\n",
    "i"
   ]
  },
  {
   "cell_type": "code",
   "execution_count": 83,
   "metadata": {},
   "outputs": [
    {
     "ename": "ValidationError",
     "evalue": "1 validation error for Item\nname\n  ensure this value has at most 10 characters (type=value_error.any_str.max_length; limit_value=10)",
     "output_type": "error",
     "traceback": [
      "\u001b[0;31m---------------------------------------------------------------------------\u001b[0m",
      "\u001b[0;31mValidationError\u001b[0m                           Traceback (most recent call last)",
      "Cell \u001b[0;32mIn[83], line 1\u001b[0m\n\u001b[0;32m----> 1\u001b[0m i \u001b[39m=\u001b[39m Item(\u001b[39mid\u001b[39;49m\u001b[39m=\u001b[39;49m\u001b[39m1\u001b[39;49m, name\u001b[39m=\u001b[39;49m\u001b[39m\"\u001b[39;49m\u001b[39mcomputer acheté récemment\u001b[39;49m\u001b[39m\"\u001b[39;49m, price\u001b[39m=\u001b[39;49m\u001b[39m10\u001b[39;49m)\n\u001b[1;32m      2\u001b[0m i\n",
      "File \u001b[0;32m~/.local/share/virtualenvs/2023-02-pydantic-HIYLJ1dG/lib/python3.10/site-packages/pydantic/main.py:342\u001b[0m, in \u001b[0;36mpydantic.main.BaseModel.__init__\u001b[0;34m()\u001b[0m\n",
      "\u001b[0;31mValidationError\u001b[0m: 1 validation error for Item\nname\n  ensure this value has at most 10 characters (type=value_error.any_str.max_length; limit_value=10)"
     ]
    }
   ],
   "source": [
    "i = Item(id=1, name=\"computer acheté récemment\", price=10)\n",
    "i"
   ]
  },
  {
   "cell_type": "code",
   "execution_count": null,
   "metadata": {},
   "outputs": [],
   "source": [
    "# Change behaviour globally\n",
    "from pydantic import BaseModel as PydanticBaseModel\n",
    "\n",
    "\n",
    "class BaseModel(PydanticBaseModel):\n",
    "    class Config:\n",
    "        arbitrary_types_allowed = True\n",
    "\n",
    "\n",
    "class MyClass:\n",
    "    \"\"\"A random class\"\"\"\n",
    "\n",
    "\n",
    "class Model(BaseModel):\n",
    "    x: MyClass"
   ]
  },
  {
   "cell_type": "markdown",
   "metadata": {},
   "source": [
    "## Schema"
   ]
  },
  {
   "cell_type": "code",
   "execution_count": 84,
   "metadata": {},
   "outputs": [],
   "source": [
    "from pydantic import BaseModel, ValidationError, root_validator\n",
    "\n",
    "\n",
    "class Item(BaseModel):\n",
    "    id:int\n",
    "    name: str\n",
    "    price:float\n",
    "    sku: int | None = None\n",
    "    quantity: int = 0\n",
    "    ingredients: list[str] = []\n",
    "    added_at : Optional[datetime] = datetime.now()\n",
    "    brand: ClassVar[int] = 19\n"
   ]
  },
  {
   "cell_type": "code",
   "execution_count": 86,
   "metadata": {},
   "outputs": [
    {
     "name": "stdout",
     "output_type": "stream",
     "text": [
      "{\n",
      "  \"title\": \"Item\",\n",
      "  \"type\": \"object\",\n",
      "  \"properties\": {\n",
      "    \"id\": {\n",
      "      \"title\": \"Id\",\n",
      "      \"type\": \"integer\"\n",
      "    },\n",
      "    \"name\": {\n",
      "      \"title\": \"Name\",\n",
      "      \"type\": \"string\"\n",
      "    },\n",
      "    \"price\": {\n",
      "      \"title\": \"Price\",\n",
      "      \"type\": \"number\"\n",
      "    },\n",
      "    \"sku\": {\n",
      "      \"title\": \"Sku\",\n",
      "      \"type\": \"integer\"\n",
      "    },\n",
      "    \"quantity\": {\n",
      "      \"title\": \"Quantity\",\n",
      "      \"default\": 0,\n",
      "      \"type\": \"integer\"\n",
      "    },\n",
      "    \"ingredients\": {\n",
      "      \"title\": \"Ingredients\",\n",
      "      \"default\": [],\n",
      "      \"type\": \"array\",\n",
      "      \"items\": {\n",
      "        \"type\": \"string\"\n",
      "      }\n",
      "    },\n",
      "    \"added_at\": {\n",
      "      \"title\": \"Added At\",\n",
      "      \"default\": \"2023-02-27T10:39:23.503610\",\n",
      "      \"type\": \"string\",\n",
      "      \"format\": \"date-time\"\n",
      "    }\n",
      "  },\n",
      "  \"required\": [\n",
      "    \"id\",\n",
      "    \"name\",\n",
      "    \"price\"\n",
      "  ]\n",
      "}\n"
     ]
    }
   ],
   "source": [
    "print(Item.schema_json(indent=2))"
   ]
  },
  {
   "cell_type": "code",
   "execution_count": null,
   "metadata": {},
   "outputs": [],
   "source": [
    "Item"
   ]
  },
  {
   "attachments": {},
   "cell_type": "markdown",
   "metadata": {},
   "source": [
    "# 3 - Beyond Pydantic - Level II"
   ]
  },
  {
   "cell_type": "markdown",
   "metadata": {},
   "source": [
    "## Generate code"
   ]
  },
  {
   "attachments": {},
   "cell_type": "markdown",
   "metadata": {},
   "source": [
    "`pip install datamodel-code-generator`\n",
    "\n",
    "`datamodel-codegen --input /input/ --input-file-type jsonschema --output /output/`\n"
   ]
  },
  {
   "attachments": {},
   "cell_type": "markdown",
   "metadata": {},
   "source": [
    "Supported input types:\n",
    "* OpenAPI 3 (YAML/JSON, OpenAPI Data Type)\n",
    "* JSON Schema (JSON Schema Core/JSON Schema Validation)\n",
    "* JSON/YAML/CSV Data (it will be converted to JSON Schema)\n",
    "* Python dictionary (it will be converted to JSON Schema)\n"
   ]
  },
  {
   "attachments": {},
   "cell_type": "markdown",
   "metadata": {},
   "source": [
    "Supported output types:\n",
    "* pydantic.BaseModel\n",
    "* dataclasses.dataclass\n",
    "\n",
    "\n",
    "\n",
    "More infos at https://github.com/koxudaxi/datamodel-code-generator"
   ]
  },
  {
   "attachments": {},
   "cell_type": "markdown",
   "metadata": {},
   "source": [
    "## Validate DAG files"
   ]
  },
  {
   "attachments": {},
   "cell_type": "markdown",
   "metadata": {},
   "source": [
    "```yaml\n",
    "default_schedule_time : \"30 0 * * *\"\n",
    "start_date: 2021-02-01 00:00:00\n",
    "dag_frequency: daily\n",
    "description: Dag to run my awesome ELT job\n",
    "task_concurrency: 1\n",
    "max_active_dag_runs: 1\n",
    "\n",
    "data_points:\n",
    "    - name: my_data_point\n",
    "      external_tasks_to_wait:\n",
    "        - dag_id: my_dag_id\n",
    "          task_id: my_task_id\n",
    "````"
   ]
  },
  {
   "cell_type": "code",
   "execution_count": null,
   "metadata": {},
   "outputs": [],
   "source": [
    "from datetime import datetime\n",
    "from typing import Optional, List, Literal\n",
    "from pydantic import BaseModel\n",
    "\n",
    "class DagDefinition(BaseModel):\n",
    "    \"\"\"Dag yaml file definition\"\"\"\n",
    "\n",
    "    default_schedule_time : str\n",
    "    start_date: datetime\n",
    "    dag_frequency: Literal[\"daily\", \"hourly\"]\n",
    "    description: Optional[str]\n",
    "    task_concurrency: Optional[int]\n",
    "    max_active_dag_runs: Optional[int]\n",
    "\n",
    "    data_points: List[DataPoints]"
   ]
  },
  {
   "attachments": {},
   "cell_type": "markdown",
   "metadata": {},
   "source": [
    "# 😎 Conclusion\n",
    "\n",
    "\n"
   ]
  },
  {
   "attachments": {},
   "cell_type": "markdown",
   "metadata": {},
   "source": [
    "Pydantic\n",
    "* Enforces type hints at runtime\n",
    "* Validates complex data structure\n",
    "* Validates custom business logic with validators\n",
    "* Ensures all the implementations follow the same data structure"
   ]
  },
  {
   "cell_type": "markdown",
   "metadata": {},
   "source": [
    "# 📚 Sources"
   ]
  },
  {
   "attachments": {},
   "cell_type": "markdown",
   "metadata": {},
   "source": [
    "* Simple data validation and setting management with Pydantic - presented by Teddy Crepineau\n",
    "     * https://www.youtube.com/watch?v=bLqU_1u_4Qw\n",
    "* Do we still need dataclasses? // PYDANTIC tutoria\n",
    "     * https://www.youtube.com/watch?v=Vj-iU-8_xLs\n",
    "* Does Pydantic Replace Dataclasses in Python?\n",
    "     * https://www.youtube.com/watch?v=Nlhp4EmE55I \n",
    "* Pydantic is the Python Package I Wish I'd Learned Earlier\n",
    "     * https://www.youtube.com/watch?v=_1Nf9KNhsPw \n",
    "* Parsing data with Pydantic - A Python short by Michael Kennedy\n",
    "     * https://www.youtube.com/watch?v=aHv7-6WIxNM \n",
    "\n",
    "\n"
   ]
  },
  {
   "attachments": {},
   "cell_type": "markdown",
   "metadata": {},
   "source": [
    "# README\n"
   ]
  }
 ],
 "metadata": {
  "celltoolbar": "Diaporama",
  "interpreter": {
   "hash": "5f08785a7ad9f8cb22a5f9f652aa350745b8ffbafa331f70cb89124670585179"
  },
  "kernelspec": {
   "display_name": "Python 3 (ipykernel)",
   "language": "python",
   "name": "python3"
  },
  "language_info": {
   "codemirror_mode": {
    "name": "ipython",
    "version": 3
   },
   "file_extension": ".py",
   "mimetype": "text/x-python",
   "name": "python",
   "nbconvert_exporter": "python",
   "pygments_lexer": "ipython3",
   "version": "3.10.0"
  }
 },
 "nbformat": 4,
 "nbformat_minor": 4
}
